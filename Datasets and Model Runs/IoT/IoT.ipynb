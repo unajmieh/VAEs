{
 "cells": [
  {
   "cell_type": "code",
   "execution_count": 1,
   "id": "ba8eaeac",
   "metadata": {
    "_cell_guid": "b1076dfc-b9ad-4769-8c92-a6c4dae69d19",
    "_uuid": "8f2839f25d086af736a60e9eeb907d3b93b6e0e5",
    "execution": {
     "iopub.execute_input": "2024-01-21T20:47:41.833672Z",
     "iopub.status.busy": "2024-01-21T20:47:41.833355Z",
     "iopub.status.idle": "2024-01-21T20:47:42.656566Z",
     "shell.execute_reply": "2024-01-21T20:47:42.655364Z"
    },
    "papermill": {
     "duration": 0.845361,
     "end_time": "2024-01-21T20:47:42.658900",
     "exception": false,
     "start_time": "2024-01-21T20:47:41.813539",
     "status": "completed"
    },
    "tags": []
   },
   "outputs": [
    {
     "name": "stdout",
     "output_type": "stream",
     "text": [
      "/kaggle/input/iot-dataset/IoT Network Intrusion Dataset.csv\n"
     ]
    }
   ],
   "source": [
    "import numpy as np # linear algebra\n",
    "import pandas as pd # data processing, CSV file I/O (e.g. pd.read_csv)\n",
    "\n",
    "import os\n",
    "for dirname, _, filenames in os.walk('/kaggle/input'):\n",
    "    for filename in filenames:\n",
    "        print(os.path.join(dirname, filename))\n"
   ]
  },
  {
   "cell_type": "code",
   "execution_count": 2,
   "id": "59312b67",
   "metadata": {
    "execution": {
     "iopub.execute_input": "2024-01-21T20:47:42.698050Z",
     "iopub.status.busy": "2024-01-21T20:47:42.697276Z",
     "iopub.status.idle": "2024-01-21T20:47:56.008036Z",
     "shell.execute_reply": "2024-01-21T20:47:56.006876Z"
    },
    "papermill": {
     "duration": 13.332339,
     "end_time": "2024-01-21T20:47:56.010498",
     "exception": false,
     "start_time": "2024-01-21T20:47:42.678159",
     "status": "completed"
    },
    "tags": []
   },
   "outputs": [
    {
     "name": "stdout",
     "output_type": "stream",
     "text": [
      "Requirement already satisfied: optuna in /opt/conda/lib/python3.10/site-packages (3.5.0)\r\n",
      "Requirement already satisfied: alembic>=1.5.0 in /opt/conda/lib/python3.10/site-packages (from optuna) (1.13.0)\r\n",
      "Requirement already satisfied: colorlog in /opt/conda/lib/python3.10/site-packages (from optuna) (6.8.0)\r\n",
      "Requirement already satisfied: numpy in /opt/conda/lib/python3.10/site-packages (from optuna) (1.24.3)\r\n",
      "Requirement already satisfied: packaging>=20.0 in /opt/conda/lib/python3.10/site-packages (from optuna) (21.3)\r\n",
      "Requirement already satisfied: sqlalchemy>=1.3.0 in /opt/conda/lib/python3.10/site-packages (from optuna) (2.0.20)\r\n",
      "Requirement already satisfied: tqdm in /opt/conda/lib/python3.10/site-packages (from optuna) (4.66.1)\r\n",
      "Requirement already satisfied: PyYAML in /opt/conda/lib/python3.10/site-packages (from optuna) (6.0.1)\r\n",
      "Requirement already satisfied: Mako in /opt/conda/lib/python3.10/site-packages (from alembic>=1.5.0->optuna) (1.3.0)\r\n",
      "Requirement already satisfied: typing-extensions>=4 in /opt/conda/lib/python3.10/site-packages (from alembic>=1.5.0->optuna) (4.5.0)\r\n",
      "Requirement already satisfied: pyparsing!=3.0.5,>=2.0.2 in /opt/conda/lib/python3.10/site-packages (from packaging>=20.0->optuna) (3.0.9)\r\n",
      "Requirement already satisfied: greenlet!=0.4.17 in /opt/conda/lib/python3.10/site-packages (from sqlalchemy>=1.3.0->optuna) (2.0.2)\r\n",
      "Requirement already satisfied: MarkupSafe>=0.9.2 in /opt/conda/lib/python3.10/site-packages (from Mako->alembic>=1.5.0->optuna) (2.1.3)\r\n"
     ]
    }
   ],
   "source": [
    "!pip install optuna"
   ]
  },
  {
   "cell_type": "code",
   "execution_count": 3,
   "id": "ceca6c28",
   "metadata": {
    "execution": {
     "iopub.execute_input": "2024-01-21T20:47:56.049679Z",
     "iopub.status.busy": "2024-01-21T20:47:56.049355Z",
     "iopub.status.idle": "2024-01-21T20:48:07.976383Z",
     "shell.execute_reply": "2024-01-21T20:48:07.975441Z"
    },
    "papermill": {
     "duration": 11.949549,
     "end_time": "2024-01-21T20:48:07.978815",
     "exception": false,
     "start_time": "2024-01-21T20:47:56.029266",
     "status": "completed"
    },
    "tags": []
   },
   "outputs": [
    {
     "name": "stdout",
     "output_type": "stream",
     "text": [
      "Requirement already satisfied: catboost in /opt/conda/lib/python3.10/site-packages (1.2.2)\r\n",
      "Requirement already satisfied: graphviz in /opt/conda/lib/python3.10/site-packages (from catboost) (0.20.1)\r\n",
      "Requirement already satisfied: matplotlib in /opt/conda/lib/python3.10/site-packages (from catboost) (3.7.4)\r\n",
      "Requirement already satisfied: numpy>=1.16.0 in /opt/conda/lib/python3.10/site-packages (from catboost) (1.24.3)\r\n",
      "Requirement already satisfied: pandas>=0.24 in /opt/conda/lib/python3.10/site-packages (from catboost) (2.0.3)\r\n",
      "Requirement already satisfied: scipy in /opt/conda/lib/python3.10/site-packages (from catboost) (1.11.4)\r\n",
      "Requirement already satisfied: plotly in /opt/conda/lib/python3.10/site-packages (from catboost) (5.16.1)\r\n",
      "Requirement already satisfied: six in /opt/conda/lib/python3.10/site-packages (from catboost) (1.16.0)\r\n",
      "Requirement already satisfied: python-dateutil>=2.8.2 in /opt/conda/lib/python3.10/site-packages (from pandas>=0.24->catboost) (2.8.2)\r\n",
      "Requirement already satisfied: pytz>=2020.1 in /opt/conda/lib/python3.10/site-packages (from pandas>=0.24->catboost) (2023.3)\r\n",
      "Requirement already satisfied: tzdata>=2022.1 in /opt/conda/lib/python3.10/site-packages (from pandas>=0.24->catboost) (2023.3)\r\n",
      "Requirement already satisfied: contourpy>=1.0.1 in /opt/conda/lib/python3.10/site-packages (from matplotlib->catboost) (1.1.0)\r\n",
      "Requirement already satisfied: cycler>=0.10 in /opt/conda/lib/python3.10/site-packages (from matplotlib->catboost) (0.11.0)\r\n",
      "Requirement already satisfied: fonttools>=4.22.0 in /opt/conda/lib/python3.10/site-packages (from matplotlib->catboost) (4.42.1)\r\n",
      "Requirement already satisfied: kiwisolver>=1.0.1 in /opt/conda/lib/python3.10/site-packages (from matplotlib->catboost) (1.4.4)\r\n",
      "Requirement already satisfied: packaging>=20.0 in /opt/conda/lib/python3.10/site-packages (from matplotlib->catboost) (21.3)\r\n",
      "Requirement already satisfied: pillow>=6.2.0 in /opt/conda/lib/python3.10/site-packages (from matplotlib->catboost) (10.1.0)\r\n",
      "Requirement already satisfied: pyparsing>=2.3.1 in /opt/conda/lib/python3.10/site-packages (from matplotlib->catboost) (3.0.9)\r\n",
      "Requirement already satisfied: tenacity>=6.2.0 in /opt/conda/lib/python3.10/site-packages (from plotly->catboost) (8.2.3)\r\n"
     ]
    }
   ],
   "source": [
    "!pip install catboost"
   ]
  },
  {
   "cell_type": "code",
   "execution_count": 4,
   "id": "0e93ddfc",
   "metadata": {
    "execution": {
     "iopub.execute_input": "2024-01-21T20:48:08.018046Z",
     "iopub.status.busy": "2024-01-21T20:48:08.017695Z",
     "iopub.status.idle": "2024-01-21T20:48:25.662948Z",
     "shell.execute_reply": "2024-01-21T20:48:25.662061Z"
    },
    "papermill": {
     "duration": 17.667609,
     "end_time": "2024-01-21T20:48:25.665311",
     "exception": false,
     "start_time": "2024-01-21T20:48:07.997702",
     "status": "completed"
    },
    "tags": []
   },
   "outputs": [
    {
     "name": "stderr",
     "output_type": "stream",
     "text": [
      "/opt/conda/lib/python3.10/site-packages/scipy/__init__.py:146: UserWarning: A NumPy version >=1.16.5 and <1.23.0 is required for this version of SciPy (detected version 1.24.3\n",
      "  warnings.warn(f\"A NumPy version >={np_minversion} and <{np_maxversion}\"\n",
      "/opt/conda/lib/python3.10/site-packages/dask/dataframe/_pyarrow_compat.py:23: UserWarning: You are using pyarrow version 11.0.0 which is known to be insecure. See https://www.cve.org/CVERecord?id=CVE-2023-47248 for further details. Please upgrade to pyarrow>=14.0.1 or install pyarrow-hotfix to patch your current version.\n",
      "  warnings.warn(\n"
     ]
    }
   ],
   "source": [
    "import numpy as np\n",
    "import pandas as pd\n",
    "import seaborn as sns\n",
    "import matplotlib.pyplot as plt\n",
    "from pandas.api.types import is_numeric_dtype\n",
    "import warnings\n",
    "import optuna\n",
    "from sklearn import tree\n",
    "from sklearn.model_selection import train_test_split\n",
    "from sklearn.neighbors import KNeighborsClassifier\n",
    "from sklearn.linear_model import LogisticRegression\n",
    "from sklearn.preprocessing import StandardScaler, LabelEncoder\n",
    "from sklearn.tree import DecisionTreeClassifier\n",
    "from sklearn.ensemble import RandomForestClassifier, AdaBoostClassifier, VotingClassifier, GradientBoostingClassifier\n",
    "from sklearn.svm import SVC, LinearSVC\n",
    "from sklearn.naive_bayes import BernoulliNB\n",
    "from lightgbm import LGBMClassifier\n",
    "from sklearn.feature_selection import RFE\n",
    "import itertools\n",
    "from catboost import CatBoostClassifier\n",
    "from xgboost import XGBClassifier\n",
    "from tabulate import tabulate\n",
    "import os\n",
    "warnings.filterwarnings('ignore')\n",
    "optuna.logging.set_verbosity(optuna.logging.WARNING)\n",
    "from sklearn.model_selection import train_test_split\n",
    "from sklearn.linear_model import LogisticRegression\n",
    "from sklearn.svm import SVC\n",
    "from sklearn.metrics import accuracy_score\n",
    "from sklearn.preprocessing import MinMaxScaler\n",
    "from sklearn.manifold import TSNE\n",
    "import matplotlib.pyplot as plt\n",
    "import seaborn as sns\n",
    "from tensorflow.keras.models import Sequential\n",
    "from tensorflow.keras.layers import Dense\n",
    "from keras import regularizers\n"
   ]
  },
  {
   "cell_type": "code",
   "execution_count": 5,
   "id": "b87c4cb1",
   "metadata": {
    "execution": {
     "iopub.execute_input": "2024-01-21T20:48:25.704967Z",
     "iopub.status.busy": "2024-01-21T20:48:25.703957Z",
     "iopub.status.idle": "2024-01-21T20:48:36.303197Z",
     "shell.execute_reply": "2024-01-21T20:48:36.302120Z"
    },
    "papermill": {
     "duration": 10.62128,
     "end_time": "2024-01-21T20:48:36.305700",
     "exception": false,
     "start_time": "2024-01-21T20:48:25.684420",
     "status": "completed"
    },
    "tags": []
   },
   "outputs": [
    {
     "data": {
      "text/html": [
       "<div>\n",
       "<style scoped>\n",
       "    .dataframe tbody tr th:only-of-type {\n",
       "        vertical-align: middle;\n",
       "    }\n",
       "\n",
       "    .dataframe tbody tr th {\n",
       "        vertical-align: top;\n",
       "    }\n",
       "\n",
       "    .dataframe thead th {\n",
       "        text-align: right;\n",
       "    }\n",
       "</style>\n",
       "<table border=\"1\" class=\"dataframe\">\n",
       "  <thead>\n",
       "    <tr style=\"text-align: right;\">\n",
       "      <th></th>\n",
       "      <th>Flow_ID</th>\n",
       "      <th>Src_IP</th>\n",
       "      <th>Src_Port</th>\n",
       "      <th>Dst_IP</th>\n",
       "      <th>Dst_Port</th>\n",
       "      <th>Protocol</th>\n",
       "      <th>Timestamp</th>\n",
       "      <th>Flow_Duration</th>\n",
       "      <th>Tot_Fwd_Pkts</th>\n",
       "      <th>Tot_Bwd_Pkts</th>\n",
       "      <th>...</th>\n",
       "      <th>Active_Std</th>\n",
       "      <th>Active_Max</th>\n",
       "      <th>Active_Min</th>\n",
       "      <th>Idle_Mean</th>\n",
       "      <th>Idle_Std</th>\n",
       "      <th>Idle_Max</th>\n",
       "      <th>Idle_Min</th>\n",
       "      <th>Label</th>\n",
       "      <th>Cat</th>\n",
       "      <th>Sub_Cat</th>\n",
       "    </tr>\n",
       "  </thead>\n",
       "  <tbody>\n",
       "    <tr>\n",
       "      <th>0</th>\n",
       "      <td>192.168.0.13-192.168.0.16-10000-10101-17</td>\n",
       "      <td>192.168.0.13</td>\n",
       "      <td>10000</td>\n",
       "      <td>192.168.0.16</td>\n",
       "      <td>10101</td>\n",
       "      <td>17</td>\n",
       "      <td>25/07/2019 03:25:53 AM</td>\n",
       "      <td>75</td>\n",
       "      <td>1</td>\n",
       "      <td>1</td>\n",
       "      <td>...</td>\n",
       "      <td>0.0</td>\n",
       "      <td>0.0</td>\n",
       "      <td>0.0</td>\n",
       "      <td>75.0</td>\n",
       "      <td>0.000000</td>\n",
       "      <td>75.0</td>\n",
       "      <td>75.0</td>\n",
       "      <td>Anomaly</td>\n",
       "      <td>Mirai</td>\n",
       "      <td>Mirai-Ackflooding</td>\n",
       "    </tr>\n",
       "    <tr>\n",
       "      <th>1</th>\n",
       "      <td>192.168.0.13-222.160.179.132-554-2179-6</td>\n",
       "      <td>222.160.179.132</td>\n",
       "      <td>2179</td>\n",
       "      <td>192.168.0.13</td>\n",
       "      <td>554</td>\n",
       "      <td>6</td>\n",
       "      <td>26/05/2019 10:11:06 PM</td>\n",
       "      <td>5310</td>\n",
       "      <td>1</td>\n",
       "      <td>2</td>\n",
       "      <td>...</td>\n",
       "      <td>0.0</td>\n",
       "      <td>0.0</td>\n",
       "      <td>0.0</td>\n",
       "      <td>2655.0</td>\n",
       "      <td>2261.327486</td>\n",
       "      <td>4254.0</td>\n",
       "      <td>1056.0</td>\n",
       "      <td>Anomaly</td>\n",
       "      <td>DoS</td>\n",
       "      <td>DoS-Synflooding</td>\n",
       "    </tr>\n",
       "    <tr>\n",
       "      <th>2</th>\n",
       "      <td>192.168.0.13-192.168.0.16-9020-52727-6</td>\n",
       "      <td>192.168.0.16</td>\n",
       "      <td>52727</td>\n",
       "      <td>192.168.0.13</td>\n",
       "      <td>9020</td>\n",
       "      <td>6</td>\n",
       "      <td>11/07/2019 01:24:48 AM</td>\n",
       "      <td>141</td>\n",
       "      <td>0</td>\n",
       "      <td>3</td>\n",
       "      <td>...</td>\n",
       "      <td>0.0</td>\n",
       "      <td>0.0</td>\n",
       "      <td>0.0</td>\n",
       "      <td>70.5</td>\n",
       "      <td>0.707107</td>\n",
       "      <td>71.0</td>\n",
       "      <td>70.0</td>\n",
       "      <td>Anomaly</td>\n",
       "      <td>Scan</td>\n",
       "      <td>Scan Port OS</td>\n",
       "    </tr>\n",
       "    <tr>\n",
       "      <th>3</th>\n",
       "      <td>192.168.0.13-192.168.0.16-9020-52964-6</td>\n",
       "      <td>192.168.0.16</td>\n",
       "      <td>52964</td>\n",
       "      <td>192.168.0.13</td>\n",
       "      <td>9020</td>\n",
       "      <td>6</td>\n",
       "      <td>04/09/2019 03:58:17 AM</td>\n",
       "      <td>151</td>\n",
       "      <td>0</td>\n",
       "      <td>2</td>\n",
       "      <td>...</td>\n",
       "      <td>0.0</td>\n",
       "      <td>0.0</td>\n",
       "      <td>0.0</td>\n",
       "      <td>151.0</td>\n",
       "      <td>0.000000</td>\n",
       "      <td>151.0</td>\n",
       "      <td>151.0</td>\n",
       "      <td>Anomaly</td>\n",
       "      <td>Mirai</td>\n",
       "      <td>Mirai-Hostbruteforceg</td>\n",
       "    </tr>\n",
       "    <tr>\n",
       "      <th>4</th>\n",
       "      <td>192.168.0.1-239.255.255.250-36763-1900-17</td>\n",
       "      <td>192.168.0.1</td>\n",
       "      <td>36763</td>\n",
       "      <td>239.255.255.250</td>\n",
       "      <td>1900</td>\n",
       "      <td>17</td>\n",
       "      <td>10/09/2019 01:41:18 AM</td>\n",
       "      <td>153</td>\n",
       "      <td>2</td>\n",
       "      <td>1</td>\n",
       "      <td>...</td>\n",
       "      <td>0.0</td>\n",
       "      <td>0.0</td>\n",
       "      <td>0.0</td>\n",
       "      <td>76.5</td>\n",
       "      <td>0.707107</td>\n",
       "      <td>77.0</td>\n",
       "      <td>76.0</td>\n",
       "      <td>Anomaly</td>\n",
       "      <td>Mirai</td>\n",
       "      <td>Mirai-Hostbruteforceg</td>\n",
       "    </tr>\n",
       "    <tr>\n",
       "      <th>...</th>\n",
       "      <td>...</td>\n",
       "      <td>...</td>\n",
       "      <td>...</td>\n",
       "      <td>...</td>\n",
       "      <td>...</td>\n",
       "      <td>...</td>\n",
       "      <td>...</td>\n",
       "      <td>...</td>\n",
       "      <td>...</td>\n",
       "      <td>...</td>\n",
       "      <td>...</td>\n",
       "      <td>...</td>\n",
       "      <td>...</td>\n",
       "      <td>...</td>\n",
       "      <td>...</td>\n",
       "      <td>...</td>\n",
       "      <td>...</td>\n",
       "      <td>...</td>\n",
       "      <td>...</td>\n",
       "      <td>...</td>\n",
       "      <td>...</td>\n",
       "    </tr>\n",
       "    <tr>\n",
       "      <th>625778</th>\n",
       "      <td>192.168.0.24-210.89.164.90-56112-8043-17</td>\n",
       "      <td>192.168.0.24</td>\n",
       "      <td>56112</td>\n",
       "      <td>210.89.164.90</td>\n",
       "      <td>8043</td>\n",
       "      <td>17</td>\n",
       "      <td>25/07/2019 03:25:00 AM</td>\n",
       "      <td>277</td>\n",
       "      <td>1</td>\n",
       "      <td>1</td>\n",
       "      <td>...</td>\n",
       "      <td>0.0</td>\n",
       "      <td>0.0</td>\n",
       "      <td>0.0</td>\n",
       "      <td>277.0</td>\n",
       "      <td>0.000000</td>\n",
       "      <td>277.0</td>\n",
       "      <td>277.0</td>\n",
       "      <td>Anomaly</td>\n",
       "      <td>Mirai</td>\n",
       "      <td>Mirai-UDP Flooding</td>\n",
       "    </tr>\n",
       "    <tr>\n",
       "      <th>625779</th>\n",
       "      <td>192.168.0.13-222.131.171.244-554-4570-6</td>\n",
       "      <td>222.131.171.244</td>\n",
       "      <td>4570</td>\n",
       "      <td>192.168.0.13</td>\n",
       "      <td>554</td>\n",
       "      <td>6</td>\n",
       "      <td>26/05/2019 10:06:51 PM</td>\n",
       "      <td>1658</td>\n",
       "      <td>0</td>\n",
       "      <td>2</td>\n",
       "      <td>...</td>\n",
       "      <td>0.0</td>\n",
       "      <td>0.0</td>\n",
       "      <td>0.0</td>\n",
       "      <td>1658.0</td>\n",
       "      <td>0.000000</td>\n",
       "      <td>1658.0</td>\n",
       "      <td>1658.0</td>\n",
       "      <td>Anomaly</td>\n",
       "      <td>DoS</td>\n",
       "      <td>DoS-Synflooding</td>\n",
       "    </tr>\n",
       "    <tr>\n",
       "      <th>625780</th>\n",
       "      <td>192.168.0.13-192.168.0.16-9020-52739-6</td>\n",
       "      <td>192.168.0.16</td>\n",
       "      <td>52739</td>\n",
       "      <td>192.168.0.13</td>\n",
       "      <td>9020</td>\n",
       "      <td>6</td>\n",
       "      <td>11/07/2019 01:29:09 AM</td>\n",
       "      <td>77</td>\n",
       "      <td>1</td>\n",
       "      <td>1</td>\n",
       "      <td>...</td>\n",
       "      <td>0.0</td>\n",
       "      <td>0.0</td>\n",
       "      <td>0.0</td>\n",
       "      <td>77.0</td>\n",
       "      <td>0.000000</td>\n",
       "      <td>77.0</td>\n",
       "      <td>77.0</td>\n",
       "      <td>Anomaly</td>\n",
       "      <td>Scan</td>\n",
       "      <td>Scan Port OS</td>\n",
       "    </tr>\n",
       "    <tr>\n",
       "      <th>625781</th>\n",
       "      <td>192.168.0.13-192.168.0.16-9020-49784-6</td>\n",
       "      <td>192.168.0.13</td>\n",
       "      <td>9020</td>\n",
       "      <td>192.168.0.16</td>\n",
       "      <td>49784</td>\n",
       "      <td>6</td>\n",
       "      <td>20/05/2019 05:00:29 AM</td>\n",
       "      <td>240</td>\n",
       "      <td>2</td>\n",
       "      <td>1</td>\n",
       "      <td>...</td>\n",
       "      <td>0.0</td>\n",
       "      <td>0.0</td>\n",
       "      <td>0.0</td>\n",
       "      <td>120.0</td>\n",
       "      <td>7.071068</td>\n",
       "      <td>125.0</td>\n",
       "      <td>115.0</td>\n",
       "      <td>Normal</td>\n",
       "      <td>Normal</td>\n",
       "      <td>Normal</td>\n",
       "    </tr>\n",
       "    <tr>\n",
       "      <th>625782</th>\n",
       "      <td>192.168.0.13-192.168.0.16-10000-10101-17</td>\n",
       "      <td>192.168.0.13</td>\n",
       "      <td>10000</td>\n",
       "      <td>192.168.0.16</td>\n",
       "      <td>10101</td>\n",
       "      <td>17</td>\n",
       "      <td>25/07/2019 03:25:10 AM</td>\n",
       "      <td>198</td>\n",
       "      <td>2</td>\n",
       "      <td>1</td>\n",
       "      <td>...</td>\n",
       "      <td>0.0</td>\n",
       "      <td>0.0</td>\n",
       "      <td>0.0</td>\n",
       "      <td>99.0</td>\n",
       "      <td>32.526912</td>\n",
       "      <td>122.0</td>\n",
       "      <td>76.0</td>\n",
       "      <td>Anomaly</td>\n",
       "      <td>Mirai</td>\n",
       "      <td>Mirai-UDP Flooding</td>\n",
       "    </tr>\n",
       "  </tbody>\n",
       "</table>\n",
       "<p>625783 rows × 86 columns</p>\n",
       "</div>"
      ],
      "text/plain": [
       "                                          Flow_ID           Src_IP  Src_Port  \\\n",
       "0        192.168.0.13-192.168.0.16-10000-10101-17     192.168.0.13     10000   \n",
       "1         192.168.0.13-222.160.179.132-554-2179-6  222.160.179.132      2179   \n",
       "2          192.168.0.13-192.168.0.16-9020-52727-6     192.168.0.16     52727   \n",
       "3          192.168.0.13-192.168.0.16-9020-52964-6     192.168.0.16     52964   \n",
       "4       192.168.0.1-239.255.255.250-36763-1900-17      192.168.0.1     36763   \n",
       "...                                           ...              ...       ...   \n",
       "625778   192.168.0.24-210.89.164.90-56112-8043-17     192.168.0.24     56112   \n",
       "625779    192.168.0.13-222.131.171.244-554-4570-6  222.131.171.244      4570   \n",
       "625780     192.168.0.13-192.168.0.16-9020-52739-6     192.168.0.16     52739   \n",
       "625781     192.168.0.13-192.168.0.16-9020-49784-6     192.168.0.13      9020   \n",
       "625782   192.168.0.13-192.168.0.16-10000-10101-17     192.168.0.13     10000   \n",
       "\n",
       "                 Dst_IP  Dst_Port  Protocol               Timestamp  \\\n",
       "0          192.168.0.16     10101        17  25/07/2019 03:25:53 AM   \n",
       "1          192.168.0.13       554         6  26/05/2019 10:11:06 PM   \n",
       "2          192.168.0.13      9020         6  11/07/2019 01:24:48 AM   \n",
       "3          192.168.0.13      9020         6  04/09/2019 03:58:17 AM   \n",
       "4       239.255.255.250      1900        17  10/09/2019 01:41:18 AM   \n",
       "...                 ...       ...       ...                     ...   \n",
       "625778    210.89.164.90      8043        17  25/07/2019 03:25:00 AM   \n",
       "625779     192.168.0.13       554         6  26/05/2019 10:06:51 PM   \n",
       "625780     192.168.0.13      9020         6  11/07/2019 01:29:09 AM   \n",
       "625781     192.168.0.16     49784         6  20/05/2019 05:00:29 AM   \n",
       "625782     192.168.0.16     10101        17  25/07/2019 03:25:10 AM   \n",
       "\n",
       "        Flow_Duration  Tot_Fwd_Pkts  Tot_Bwd_Pkts  ...  Active_Std  \\\n",
       "0                  75             1             1  ...         0.0   \n",
       "1                5310             1             2  ...         0.0   \n",
       "2                 141             0             3  ...         0.0   \n",
       "3                 151             0             2  ...         0.0   \n",
       "4                 153             2             1  ...         0.0   \n",
       "...               ...           ...           ...  ...         ...   \n",
       "625778            277             1             1  ...         0.0   \n",
       "625779           1658             0             2  ...         0.0   \n",
       "625780             77             1             1  ...         0.0   \n",
       "625781            240             2             1  ...         0.0   \n",
       "625782            198             2             1  ...         0.0   \n",
       "\n",
       "        Active_Max  Active_Min  Idle_Mean     Idle_Std  Idle_Max  Idle_Min  \\\n",
       "0              0.0         0.0       75.0     0.000000      75.0      75.0   \n",
       "1              0.0         0.0     2655.0  2261.327486    4254.0    1056.0   \n",
       "2              0.0         0.0       70.5     0.707107      71.0      70.0   \n",
       "3              0.0         0.0      151.0     0.000000     151.0     151.0   \n",
       "4              0.0         0.0       76.5     0.707107      77.0      76.0   \n",
       "...            ...         ...        ...          ...       ...       ...   \n",
       "625778         0.0         0.0      277.0     0.000000     277.0     277.0   \n",
       "625779         0.0         0.0     1658.0     0.000000    1658.0    1658.0   \n",
       "625780         0.0         0.0       77.0     0.000000      77.0      77.0   \n",
       "625781         0.0         0.0      120.0     7.071068     125.0     115.0   \n",
       "625782         0.0         0.0       99.0    32.526912     122.0      76.0   \n",
       "\n",
       "          Label     Cat                Sub_Cat  \n",
       "0       Anomaly   Mirai      Mirai-Ackflooding  \n",
       "1       Anomaly     DoS        DoS-Synflooding  \n",
       "2       Anomaly    Scan           Scan Port OS  \n",
       "3       Anomaly   Mirai  Mirai-Hostbruteforceg  \n",
       "4       Anomaly   Mirai  Mirai-Hostbruteforceg  \n",
       "...         ...     ...                    ...  \n",
       "625778  Anomaly   Mirai     Mirai-UDP Flooding  \n",
       "625779  Anomaly     DoS        DoS-Synflooding  \n",
       "625780  Anomaly    Scan           Scan Port OS  \n",
       "625781   Normal  Normal                 Normal  \n",
       "625782  Anomaly   Mirai     Mirai-UDP Flooding  \n",
       "\n",
       "[625783 rows x 86 columns]"
      ]
     },
     "execution_count": 5,
     "metadata": {},
     "output_type": "execute_result"
    }
   ],
   "source": [
    "Maindataset = pd.read_csv(\"../input/iot-dataset/IoT Network Intrusion Dataset.csv\")\n",
    "Maindataset"
   ]
  },
  {
   "cell_type": "code",
   "execution_count": 6,
   "id": "091b121f",
   "metadata": {
    "execution": {
     "iopub.execute_input": "2024-01-21T20:48:36.345691Z",
     "iopub.status.busy": "2024-01-21T20:48:36.345398Z",
     "iopub.status.idle": "2024-01-21T20:48:36.826358Z",
     "shell.execute_reply": "2024-01-21T20:48:36.825384Z"
    },
    "papermill": {
     "duration": 0.504179,
     "end_time": "2024-01-21T20:48:36.829422",
     "exception": false,
     "start_time": "2024-01-21T20:48:36.325243",
     "status": "completed"
    },
    "tags": []
   },
   "outputs": [
    {
     "name": "stdout",
     "output_type": "stream",
     "text": [
      "<class 'pandas.core.frame.DataFrame'>\n",
      "RangeIndex: 625783 entries, 0 to 625782\n",
      "Data columns (total 86 columns):\n",
      " #   Column             Non-Null Count   Dtype  \n",
      "---  ------             --------------   -----  \n",
      " 0   Flow_ID            625783 non-null  object \n",
      " 1   Src_IP             625783 non-null  object \n",
      " 2   Src_Port           625783 non-null  int64  \n",
      " 3   Dst_IP             625783 non-null  object \n",
      " 4   Dst_Port           625783 non-null  int64  \n",
      " 5   Protocol           625783 non-null  int64  \n",
      " 6   Timestamp          625783 non-null  object \n",
      " 7   Flow_Duration      625783 non-null  int64  \n",
      " 8   Tot_Fwd_Pkts       625783 non-null  int64  \n",
      " 9   Tot_Bwd_Pkts       625783 non-null  int64  \n",
      " 10  TotLen_Fwd_Pkts    625783 non-null  float64\n",
      " 11  TotLen_Bwd_Pkts    625783 non-null  float64\n",
      " 12  Fwd_Pkt_Len_Max    625783 non-null  float64\n",
      " 13  Fwd_Pkt_Len_Min    625783 non-null  float64\n",
      " 14  Fwd_Pkt_Len_Mean   625783 non-null  float64\n",
      " 15  Fwd_Pkt_Len_Std    625783 non-null  float64\n",
      " 16  Bwd_Pkt_Len_Max    625783 non-null  float64\n",
      " 17  Bwd_Pkt_Len_Min    625783 non-null  float64\n",
      " 18  Bwd_Pkt_Len_Mean   625783 non-null  float64\n",
      " 19  Bwd_Pkt_Len_Std    625783 non-null  float64\n",
      " 20  Flow_Byts/s        625783 non-null  float64\n",
      " 21  Flow_Pkts/s        625783 non-null  float64\n",
      " 22  Flow_IAT_Mean      625783 non-null  float64\n",
      " 23  Flow_IAT_Std       625783 non-null  float64\n",
      " 24  Flow_IAT_Max       625783 non-null  float64\n",
      " 25  Flow_IAT_Min       625783 non-null  float64\n",
      " 26  Fwd_IAT_Tot        625783 non-null  float64\n",
      " 27  Fwd_IAT_Mean       625783 non-null  float64\n",
      " 28  Fwd_IAT_Std        625783 non-null  float64\n",
      " 29  Fwd_IAT_Max        625783 non-null  float64\n",
      " 30  Fwd_IAT_Min        625783 non-null  float64\n",
      " 31  Bwd_IAT_Tot        625783 non-null  float64\n",
      " 32  Bwd_IAT_Mean       625783 non-null  float64\n",
      " 33  Bwd_IAT_Std        625783 non-null  float64\n",
      " 34  Bwd_IAT_Max        625783 non-null  float64\n",
      " 35  Bwd_IAT_Min        625783 non-null  float64\n",
      " 36  Fwd_PSH_Flags      625783 non-null  int64  \n",
      " 37  Bwd_PSH_Flags      625783 non-null  int64  \n",
      " 38  Fwd_URG_Flags      625783 non-null  int64  \n",
      " 39  Bwd_URG_Flags      625783 non-null  int64  \n",
      " 40  Fwd_Header_Len     625783 non-null  int64  \n",
      " 41  Bwd_Header_Len     625783 non-null  int64  \n",
      " 42  Fwd_Pkts/s         625783 non-null  float64\n",
      " 43  Bwd_Pkts/s         625783 non-null  float64\n",
      " 44  Pkt_Len_Min        625783 non-null  float64\n",
      " 45  Pkt_Len_Max        625783 non-null  float64\n",
      " 46  Pkt_Len_Mean       625783 non-null  float64\n",
      " 47  Pkt_Len_Std        625783 non-null  float64\n",
      " 48  Pkt_Len_Var        625783 non-null  float64\n",
      " 49  FIN_Flag_Cnt       625783 non-null  int64  \n",
      " 50  SYN_Flag_Cnt       625783 non-null  int64  \n",
      " 51  RST_Flag_Cnt       625783 non-null  int64  \n",
      " 52  PSH_Flag_Cnt       625783 non-null  int64  \n",
      " 53  ACK_Flag_Cnt       625783 non-null  int64  \n",
      " 54  URG_Flag_Cnt       625783 non-null  int64  \n",
      " 55  CWE_Flag_Count     625783 non-null  int64  \n",
      " 56  ECE_Flag_Cnt       625783 non-null  int64  \n",
      " 57  Down/Up_Ratio      625783 non-null  float64\n",
      " 58  Pkt_Size_Avg       625783 non-null  float64\n",
      " 59  Fwd_Seg_Size_Avg   625783 non-null  float64\n",
      " 60  Bwd_Seg_Size_Avg   625783 non-null  float64\n",
      " 61  Fwd_Byts/b_Avg     625783 non-null  int64  \n",
      " 62  Fwd_Pkts/b_Avg     625783 non-null  int64  \n",
      " 63  Fwd_Blk_Rate_Avg   625783 non-null  int64  \n",
      " 64  Bwd_Byts/b_Avg     625783 non-null  int64  \n",
      " 65  Bwd_Pkts/b_Avg     625783 non-null  int64  \n",
      " 66  Bwd_Blk_Rate_Avg   625783 non-null  int64  \n",
      " 67  Subflow_Fwd_Pkts   625783 non-null  int64  \n",
      " 68  Subflow_Fwd_Byts   625783 non-null  int64  \n",
      " 69  Subflow_Bwd_Pkts   625783 non-null  int64  \n",
      " 70  Subflow_Bwd_Byts   625783 non-null  int64  \n",
      " 71  Init_Fwd_Win_Byts  625783 non-null  int64  \n",
      " 72  Init_Bwd_Win_Byts  625783 non-null  int64  \n",
      " 73  Fwd_Act_Data_Pkts  625783 non-null  int64  \n",
      " 74  Fwd_Seg_Size_Min   625783 non-null  int64  \n",
      " 75  Active_Mean        625783 non-null  float64\n",
      " 76  Active_Std         625783 non-null  float64\n",
      " 77  Active_Max         625783 non-null  float64\n",
      " 78  Active_Min         625783 non-null  float64\n",
      " 79  Idle_Mean          625783 non-null  float64\n",
      " 80  Idle_Std           625783 non-null  float64\n",
      " 81  Idle_Max           625783 non-null  float64\n",
      " 82  Idle_Min           625783 non-null  float64\n",
      " 83  Label              625783 non-null  object \n",
      " 84  Cat                625783 non-null  object \n",
      " 85  Sub_Cat            625783 non-null  object \n",
      "dtypes: float64(45), int64(34), object(7)\n",
      "memory usage: 410.6+ MB\n"
     ]
    }
   ],
   "source": [
    "\n",
    "Maindataset.info()\n"
   ]
  },
  {
   "cell_type": "code",
   "execution_count": 7,
   "id": "4056bd59",
   "metadata": {
    "execution": {
     "iopub.execute_input": "2024-01-21T20:48:36.872218Z",
     "iopub.status.busy": "2024-01-21T20:48:36.871621Z",
     "iopub.status.idle": "2024-01-21T20:48:37.038526Z",
     "shell.execute_reply": "2024-01-21T20:48:37.037541Z"
    },
    "papermill": {
     "duration": 0.189759,
     "end_time": "2024-01-21T20:48:37.040957",
     "exception": false,
     "start_time": "2024-01-21T20:48:36.851198",
     "status": "completed"
    },
    "tags": []
   },
   "outputs": [],
   "source": [
    "# Dropping columns that are not needed\n",
    "Maindataset.drop([\"Timestamp\", \"Src_IP\", \"Flow_ID\", \"Dst_IP\"], axis = 1, inplace=True)\n"
   ]
  },
  {
   "cell_type": "code",
   "execution_count": 8,
   "id": "6b9cae87",
   "metadata": {
    "execution": {
     "iopub.execute_input": "2024-01-21T20:48:37.082173Z",
     "iopub.status.busy": "2024-01-21T20:48:37.081879Z",
     "iopub.status.idle": "2024-01-21T20:48:37.330022Z",
     "shell.execute_reply": "2024-01-21T20:48:37.329056Z"
    },
    "papermill": {
     "duration": 0.271037,
     "end_time": "2024-01-21T20:48:37.332294",
     "exception": false,
     "start_time": "2024-01-21T20:48:37.061257",
     "status": "completed"
    },
    "tags": []
   },
   "outputs": [
    {
     "data": {
      "text/html": [
       "<div>\n",
       "<style scoped>\n",
       "    .dataframe tbody tr th:only-of-type {\n",
       "        vertical-align: middle;\n",
       "    }\n",
       "\n",
       "    .dataframe tbody tr th {\n",
       "        vertical-align: top;\n",
       "    }\n",
       "\n",
       "    .dataframe thead th {\n",
       "        text-align: right;\n",
       "    }\n",
       "</style>\n",
       "<table border=\"1\" class=\"dataframe\">\n",
       "  <thead>\n",
       "    <tr style=\"text-align: right;\">\n",
       "      <th></th>\n",
       "      <th>Src_Port</th>\n",
       "      <th>Dst_Port</th>\n",
       "      <th>Protocol</th>\n",
       "      <th>Flow_Duration</th>\n",
       "      <th>Tot_Fwd_Pkts</th>\n",
       "      <th>Tot_Bwd_Pkts</th>\n",
       "      <th>TotLen_Fwd_Pkts</th>\n",
       "      <th>TotLen_Bwd_Pkts</th>\n",
       "      <th>Fwd_Pkt_Len_Max</th>\n",
       "      <th>Fwd_Pkt_Len_Min</th>\n",
       "      <th>...</th>\n",
       "      <th>Active_Std</th>\n",
       "      <th>Active_Max</th>\n",
       "      <th>Active_Min</th>\n",
       "      <th>Idle_Mean</th>\n",
       "      <th>Idle_Std</th>\n",
       "      <th>Idle_Max</th>\n",
       "      <th>Idle_Min</th>\n",
       "      <th>Label</th>\n",
       "      <th>Cat</th>\n",
       "      <th>Sub_Cat</th>\n",
       "    </tr>\n",
       "  </thead>\n",
       "  <tbody>\n",
       "    <tr>\n",
       "      <th>0</th>\n",
       "      <td>10000</td>\n",
       "      <td>10101</td>\n",
       "      <td>17</td>\n",
       "      <td>75</td>\n",
       "      <td>1</td>\n",
       "      <td>1</td>\n",
       "      <td>982.0</td>\n",
       "      <td>1430.0</td>\n",
       "      <td>982.0</td>\n",
       "      <td>982.0</td>\n",
       "      <td>...</td>\n",
       "      <td>0.0</td>\n",
       "      <td>0.0</td>\n",
       "      <td>0.0</td>\n",
       "      <td>75.0</td>\n",
       "      <td>0.000000</td>\n",
       "      <td>75.0</td>\n",
       "      <td>75.0</td>\n",
       "      <td>Anomaly</td>\n",
       "      <td>Mirai</td>\n",
       "      <td>Mirai-Ackflooding</td>\n",
       "    </tr>\n",
       "    <tr>\n",
       "      <th>1</th>\n",
       "      <td>2179</td>\n",
       "      <td>554</td>\n",
       "      <td>6</td>\n",
       "      <td>5310</td>\n",
       "      <td>1</td>\n",
       "      <td>2</td>\n",
       "      <td>0.0</td>\n",
       "      <td>0.0</td>\n",
       "      <td>0.0</td>\n",
       "      <td>0.0</td>\n",
       "      <td>...</td>\n",
       "      <td>0.0</td>\n",
       "      <td>0.0</td>\n",
       "      <td>0.0</td>\n",
       "      <td>2655.0</td>\n",
       "      <td>2261.327486</td>\n",
       "      <td>4254.0</td>\n",
       "      <td>1056.0</td>\n",
       "      <td>Anomaly</td>\n",
       "      <td>DoS</td>\n",
       "      <td>DoS-Synflooding</td>\n",
       "    </tr>\n",
       "    <tr>\n",
       "      <th>2</th>\n",
       "      <td>52727</td>\n",
       "      <td>9020</td>\n",
       "      <td>6</td>\n",
       "      <td>141</td>\n",
       "      <td>0</td>\n",
       "      <td>3</td>\n",
       "      <td>0.0</td>\n",
       "      <td>2806.0</td>\n",
       "      <td>0.0</td>\n",
       "      <td>0.0</td>\n",
       "      <td>...</td>\n",
       "      <td>0.0</td>\n",
       "      <td>0.0</td>\n",
       "      <td>0.0</td>\n",
       "      <td>70.5</td>\n",
       "      <td>0.707107</td>\n",
       "      <td>71.0</td>\n",
       "      <td>70.0</td>\n",
       "      <td>Anomaly</td>\n",
       "      <td>Scan</td>\n",
       "      <td>Scan Port OS</td>\n",
       "    </tr>\n",
       "    <tr>\n",
       "      <th>3</th>\n",
       "      <td>52964</td>\n",
       "      <td>9020</td>\n",
       "      <td>6</td>\n",
       "      <td>151</td>\n",
       "      <td>0</td>\n",
       "      <td>2</td>\n",
       "      <td>0.0</td>\n",
       "      <td>2776.0</td>\n",
       "      <td>0.0</td>\n",
       "      <td>0.0</td>\n",
       "      <td>...</td>\n",
       "      <td>0.0</td>\n",
       "      <td>0.0</td>\n",
       "      <td>0.0</td>\n",
       "      <td>151.0</td>\n",
       "      <td>0.000000</td>\n",
       "      <td>151.0</td>\n",
       "      <td>151.0</td>\n",
       "      <td>Anomaly</td>\n",
       "      <td>Mirai</td>\n",
       "      <td>Mirai-Hostbruteforceg</td>\n",
       "    </tr>\n",
       "    <tr>\n",
       "      <th>4</th>\n",
       "      <td>36763</td>\n",
       "      <td>1900</td>\n",
       "      <td>17</td>\n",
       "      <td>153</td>\n",
       "      <td>2</td>\n",
       "      <td>1</td>\n",
       "      <td>886.0</td>\n",
       "      <td>420.0</td>\n",
       "      <td>452.0</td>\n",
       "      <td>434.0</td>\n",
       "      <td>...</td>\n",
       "      <td>0.0</td>\n",
       "      <td>0.0</td>\n",
       "      <td>0.0</td>\n",
       "      <td>76.5</td>\n",
       "      <td>0.707107</td>\n",
       "      <td>77.0</td>\n",
       "      <td>76.0</td>\n",
       "      <td>Anomaly</td>\n",
       "      <td>Mirai</td>\n",
       "      <td>Mirai-Hostbruteforceg</td>\n",
       "    </tr>\n",
       "    <tr>\n",
       "      <th>...</th>\n",
       "      <td>...</td>\n",
       "      <td>...</td>\n",
       "      <td>...</td>\n",
       "      <td>...</td>\n",
       "      <td>...</td>\n",
       "      <td>...</td>\n",
       "      <td>...</td>\n",
       "      <td>...</td>\n",
       "      <td>...</td>\n",
       "      <td>...</td>\n",
       "      <td>...</td>\n",
       "      <td>...</td>\n",
       "      <td>...</td>\n",
       "      <td>...</td>\n",
       "      <td>...</td>\n",
       "      <td>...</td>\n",
       "      <td>...</td>\n",
       "      <td>...</td>\n",
       "      <td>...</td>\n",
       "      <td>...</td>\n",
       "      <td>...</td>\n",
       "    </tr>\n",
       "    <tr>\n",
       "      <th>625778</th>\n",
       "      <td>56112</td>\n",
       "      <td>8043</td>\n",
       "      <td>17</td>\n",
       "      <td>277</td>\n",
       "      <td>1</td>\n",
       "      <td>1</td>\n",
       "      <td>18.0</td>\n",
       "      <td>18.0</td>\n",
       "      <td>18.0</td>\n",
       "      <td>18.0</td>\n",
       "      <td>...</td>\n",
       "      <td>0.0</td>\n",
       "      <td>0.0</td>\n",
       "      <td>0.0</td>\n",
       "      <td>277.0</td>\n",
       "      <td>0.000000</td>\n",
       "      <td>277.0</td>\n",
       "      <td>277.0</td>\n",
       "      <td>Anomaly</td>\n",
       "      <td>Mirai</td>\n",
       "      <td>Mirai-UDP Flooding</td>\n",
       "    </tr>\n",
       "    <tr>\n",
       "      <th>625779</th>\n",
       "      <td>4570</td>\n",
       "      <td>554</td>\n",
       "      <td>6</td>\n",
       "      <td>1658</td>\n",
       "      <td>0</td>\n",
       "      <td>2</td>\n",
       "      <td>0.0</td>\n",
       "      <td>0.0</td>\n",
       "      <td>0.0</td>\n",
       "      <td>0.0</td>\n",
       "      <td>...</td>\n",
       "      <td>0.0</td>\n",
       "      <td>0.0</td>\n",
       "      <td>0.0</td>\n",
       "      <td>1658.0</td>\n",
       "      <td>0.000000</td>\n",
       "      <td>1658.0</td>\n",
       "      <td>1658.0</td>\n",
       "      <td>Anomaly</td>\n",
       "      <td>DoS</td>\n",
       "      <td>DoS-Synflooding</td>\n",
       "    </tr>\n",
       "    <tr>\n",
       "      <th>625780</th>\n",
       "      <td>52739</td>\n",
       "      <td>9020</td>\n",
       "      <td>6</td>\n",
       "      <td>77</td>\n",
       "      <td>1</td>\n",
       "      <td>1</td>\n",
       "      <td>0.0</td>\n",
       "      <td>0.0</td>\n",
       "      <td>0.0</td>\n",
       "      <td>0.0</td>\n",
       "      <td>...</td>\n",
       "      <td>0.0</td>\n",
       "      <td>0.0</td>\n",
       "      <td>0.0</td>\n",
       "      <td>77.0</td>\n",
       "      <td>0.000000</td>\n",
       "      <td>77.0</td>\n",
       "      <td>77.0</td>\n",
       "      <td>Anomaly</td>\n",
       "      <td>Scan</td>\n",
       "      <td>Scan Port OS</td>\n",
       "    </tr>\n",
       "    <tr>\n",
       "      <th>625781</th>\n",
       "      <td>9020</td>\n",
       "      <td>49784</td>\n",
       "      <td>6</td>\n",
       "      <td>240</td>\n",
       "      <td>2</td>\n",
       "      <td>1</td>\n",
       "      <td>2776.0</td>\n",
       "      <td>1388.0</td>\n",
       "      <td>1388.0</td>\n",
       "      <td>1388.0</td>\n",
       "      <td>...</td>\n",
       "      <td>0.0</td>\n",
       "      <td>0.0</td>\n",
       "      <td>0.0</td>\n",
       "      <td>120.0</td>\n",
       "      <td>7.071068</td>\n",
       "      <td>125.0</td>\n",
       "      <td>115.0</td>\n",
       "      <td>Normal</td>\n",
       "      <td>Normal</td>\n",
       "      <td>Normal</td>\n",
       "    </tr>\n",
       "    <tr>\n",
       "      <th>625782</th>\n",
       "      <td>10000</td>\n",
       "      <td>10101</td>\n",
       "      <td>17</td>\n",
       "      <td>198</td>\n",
       "      <td>2</td>\n",
       "      <td>1</td>\n",
       "      <td>2860.0</td>\n",
       "      <td>1430.0</td>\n",
       "      <td>1430.0</td>\n",
       "      <td>1430.0</td>\n",
       "      <td>...</td>\n",
       "      <td>0.0</td>\n",
       "      <td>0.0</td>\n",
       "      <td>0.0</td>\n",
       "      <td>99.0</td>\n",
       "      <td>32.526912</td>\n",
       "      <td>122.0</td>\n",
       "      <td>76.0</td>\n",
       "      <td>Anomaly</td>\n",
       "      <td>Mirai</td>\n",
       "      <td>Mirai-UDP Flooding</td>\n",
       "    </tr>\n",
       "  </tbody>\n",
       "</table>\n",
       "<p>625783 rows × 82 columns</p>\n",
       "</div>"
      ],
      "text/plain": [
       "        Src_Port  Dst_Port  Protocol  Flow_Duration  Tot_Fwd_Pkts  \\\n",
       "0          10000     10101        17             75             1   \n",
       "1           2179       554         6           5310             1   \n",
       "2          52727      9020         6            141             0   \n",
       "3          52964      9020         6            151             0   \n",
       "4          36763      1900        17            153             2   \n",
       "...          ...       ...       ...            ...           ...   \n",
       "625778     56112      8043        17            277             1   \n",
       "625779      4570       554         6           1658             0   \n",
       "625780     52739      9020         6             77             1   \n",
       "625781      9020     49784         6            240             2   \n",
       "625782     10000     10101        17            198             2   \n",
       "\n",
       "        Tot_Bwd_Pkts  TotLen_Fwd_Pkts  TotLen_Bwd_Pkts  Fwd_Pkt_Len_Max  \\\n",
       "0                  1            982.0           1430.0            982.0   \n",
       "1                  2              0.0              0.0              0.0   \n",
       "2                  3              0.0           2806.0              0.0   \n",
       "3                  2              0.0           2776.0              0.0   \n",
       "4                  1            886.0            420.0            452.0   \n",
       "...              ...              ...              ...              ...   \n",
       "625778             1             18.0             18.0             18.0   \n",
       "625779             2              0.0              0.0              0.0   \n",
       "625780             1              0.0              0.0              0.0   \n",
       "625781             1           2776.0           1388.0           1388.0   \n",
       "625782             1           2860.0           1430.0           1430.0   \n",
       "\n",
       "        Fwd_Pkt_Len_Min  ...  Active_Std  Active_Max  Active_Min  Idle_Mean  \\\n",
       "0                 982.0  ...         0.0         0.0         0.0       75.0   \n",
       "1                   0.0  ...         0.0         0.0         0.0     2655.0   \n",
       "2                   0.0  ...         0.0         0.0         0.0       70.5   \n",
       "3                   0.0  ...         0.0         0.0         0.0      151.0   \n",
       "4                 434.0  ...         0.0         0.0         0.0       76.5   \n",
       "...                 ...  ...         ...         ...         ...        ...   \n",
       "625778             18.0  ...         0.0         0.0         0.0      277.0   \n",
       "625779              0.0  ...         0.0         0.0         0.0     1658.0   \n",
       "625780              0.0  ...         0.0         0.0         0.0       77.0   \n",
       "625781           1388.0  ...         0.0         0.0         0.0      120.0   \n",
       "625782           1430.0  ...         0.0         0.0         0.0       99.0   \n",
       "\n",
       "           Idle_Std  Idle_Max  Idle_Min    Label     Cat  \\\n",
       "0          0.000000      75.0      75.0  Anomaly   Mirai   \n",
       "1       2261.327486    4254.0    1056.0  Anomaly     DoS   \n",
       "2          0.707107      71.0      70.0  Anomaly    Scan   \n",
       "3          0.000000     151.0     151.0  Anomaly   Mirai   \n",
       "4          0.707107      77.0      76.0  Anomaly   Mirai   \n",
       "...             ...       ...       ...      ...     ...   \n",
       "625778     0.000000     277.0     277.0  Anomaly   Mirai   \n",
       "625779     0.000000    1658.0    1658.0  Anomaly     DoS   \n",
       "625780     0.000000      77.0      77.0  Anomaly    Scan   \n",
       "625781     7.071068     125.0     115.0   Normal  Normal   \n",
       "625782    32.526912     122.0      76.0  Anomaly   Mirai   \n",
       "\n",
       "                      Sub_Cat  \n",
       "0           Mirai-Ackflooding  \n",
       "1             DoS-Synflooding  \n",
       "2                Scan Port OS  \n",
       "3       Mirai-Hostbruteforceg  \n",
       "4       Mirai-Hostbruteforceg  \n",
       "...                       ...  \n",
       "625778     Mirai-UDP Flooding  \n",
       "625779        DoS-Synflooding  \n",
       "625780           Scan Port OS  \n",
       "625781                 Normal  \n",
       "625782     Mirai-UDP Flooding  \n",
       "\n",
       "[625783 rows x 82 columns]"
      ]
     },
     "execution_count": 8,
     "metadata": {},
     "output_type": "execute_result"
    }
   ],
   "source": [
    "Maindataset"
   ]
  },
  {
   "cell_type": "code",
   "execution_count": 9,
   "id": "873d46bb",
   "metadata": {
    "execution": {
     "iopub.execute_input": "2024-01-21T20:48:37.414555Z",
     "iopub.status.busy": "2024-01-21T20:48:37.414240Z",
     "iopub.status.idle": "2024-01-21T20:48:37.421899Z",
     "shell.execute_reply": "2024-01-21T20:48:37.420982Z"
    },
    "papermill": {
     "duration": 0.070376,
     "end_time": "2024-01-21T20:48:37.423833",
     "exception": false,
     "start_time": "2024-01-21T20:48:37.353457",
     "status": "completed"
    },
    "tags": []
   },
   "outputs": [],
   "source": [
    "# EDA\n",
    "\n",
    "\n",
    "def initial_EDA(df):\n",
    "  if isinstance(df, pd.DataFrame):\n",
    "\n",
    "    total_na = df.isna().sum().sum()\n",
    "\n",
    "    print(\"Dimension :%d rows, %d columns\" % (df.shape[0], df.shape[1]))\n",
    "    print(\"Total NA Values : %d \" % (total_na))\n",
    "    print(\"%38s %10s   %10s %10s\" %\n",
    "              (\"Column Name\", \"Data Type\", \"#Distinct\", \"NA Values\"))\n",
    "\n",
    "    col_nam = df.columns\n",
    "    dtype = df.dtypes\n",
    "    uniq = df.nunique()\n",
    "    na_val = df.isna().sum()\n",
    "\n",
    "    for i in range(len(df.columns)):\n",
    "      print(\"%38s %10s  %10s %10s\" %\n",
    "                  (col_nam[i], dtype[i], uniq[i], na_val[i]))\n",
    "\n",
    "    else:\n",
    "\n",
    "      print(\"Expact a DataFrame but got a %15s\" % (type(df)))\n",
    "\n"
   ]
  },
  {
   "cell_type": "code",
   "execution_count": 10,
   "id": "afdffb9a",
   "metadata": {
    "execution": {
     "iopub.execute_input": "2024-01-21T20:48:37.464643Z",
     "iopub.status.busy": "2024-01-21T20:48:37.464359Z",
     "iopub.status.idle": "2024-01-21T20:48:38.434662Z",
     "shell.execute_reply": "2024-01-21T20:48:38.433766Z"
    },
    "papermill": {
     "duration": 0.993347,
     "end_time": "2024-01-21T20:48:38.436958",
     "exception": false,
     "start_time": "2024-01-21T20:48:37.443611",
     "status": "completed"
    },
    "tags": []
   },
   "outputs": [
    {
     "name": "stdout",
     "output_type": "stream",
     "text": [
      "Dimension :625783 rows, 82 columns\n",
      "Total NA Values : 0 \n",
      "                           Column Name  Data Type    #Distinct  NA Values\n",
      "                              Src_Port      int64       11205          0\n",
      "                              Dst_Port      int64        1034          0\n",
      "                              Protocol      int64           3          0\n",
      "                         Flow_Duration      int64       12670          0\n",
      "                          Tot_Fwd_Pkts      int64         116          0\n",
      "                          Tot_Bwd_Pkts      int64          42          0\n",
      "                       TotLen_Fwd_Pkts    float64        2479          0\n",
      "                       TotLen_Bwd_Pkts    float64        2612          0\n",
      "                       Fwd_Pkt_Len_Max    float64        1156          0\n",
      "                       Fwd_Pkt_Len_Min    float64        1165          0\n",
      "                      Fwd_Pkt_Len_Mean    float64        2174          0\n",
      "                       Fwd_Pkt_Len_Std    float64        1614          0\n",
      "                       Bwd_Pkt_Len_Max    float64        1114          0\n",
      "                       Bwd_Pkt_Len_Min    float64        1191          0\n",
      "                      Bwd_Pkt_Len_Mean    float64        2619          0\n",
      "                       Bwd_Pkt_Len_Std    float64        2237          0\n",
      "                           Flow_Byts/s    float64       32050          0\n",
      "                           Flow_Pkts/s    float64       19969          0\n",
      "                         Flow_IAT_Mean    float64       21648          0\n",
      "                          Flow_IAT_Std    float64       30780          0\n",
      "                          Flow_IAT_Max    float64       12399          0\n",
      "                          Flow_IAT_Min    float64       11041          0\n",
      "                           Fwd_IAT_Tot    float64        1922          0\n",
      "                          Fwd_IAT_Mean    float64        8377          0\n",
      "                           Fwd_IAT_Std    float64       18278          0\n",
      "                           Fwd_IAT_Max    float64        1793          0\n",
      "                           Fwd_IAT_Min    float64        1196          0\n",
      "                           Bwd_IAT_Tot    float64       12341          0\n",
      "                          Bwd_IAT_Mean    float64       13557          0\n",
      "                           Bwd_IAT_Std    float64        4674          0\n",
      "                           Bwd_IAT_Max    float64       12223          0\n",
      "                           Bwd_IAT_Min    float64       11529          0\n",
      "                         Fwd_PSH_Flags      int64           1          0\n",
      "                         Bwd_PSH_Flags      int64           2          0\n",
      "                         Fwd_URG_Flags      int64           1          0\n",
      "                         Bwd_URG_Flags      int64           2          0\n",
      "                        Fwd_Header_Len      int64         162          0\n",
      "                        Bwd_Header_Len      int64          86          0\n",
      "                            Fwd_Pkts/s    float64        9533          0\n",
      "                            Bwd_Pkts/s    float64       14179          0\n",
      "                           Pkt_Len_Min    float64        1240          0\n",
      "                           Pkt_Len_Max    float64        1122          0\n",
      "                          Pkt_Len_Mean    float64        5458          0\n",
      "                           Pkt_Len_Std    float64        4821          0\n",
      "                           Pkt_Len_Var    float64        4962          0\n",
      "                          FIN_Flag_Cnt      int64           2          0\n",
      "                          SYN_Flag_Cnt      int64           2          0\n",
      "                          RST_Flag_Cnt      int64           2          0\n",
      "                          PSH_Flag_Cnt      int64           2          0\n",
      "                          ACK_Flag_Cnt      int64           2          0\n",
      "                          URG_Flag_Cnt      int64           2          0\n",
      "                        CWE_Flag_Count      int64           2          0\n",
      "                          ECE_Flag_Cnt      int64           2          0\n",
      "                         Down/Up_Ratio    float64          15          0\n",
      "                          Pkt_Size_Avg    float64        5327          0\n",
      "                      Fwd_Seg_Size_Avg    float64        2141          0\n",
      "                      Bwd_Seg_Size_Avg    float64        2583          0\n",
      "                        Fwd_Byts/b_Avg      int64           1          0\n",
      "                        Fwd_Pkts/b_Avg      int64           1          0\n",
      "                      Fwd_Blk_Rate_Avg      int64           1          0\n",
      "                        Bwd_Byts/b_Avg      int64           1          0\n",
      "                        Bwd_Pkts/b_Avg      int64           1          0\n",
      "                      Bwd_Blk_Rate_Avg      int64           1          0\n",
      "                      Subflow_Fwd_Pkts      int64         116          0\n",
      "                      Subflow_Fwd_Byts      int64        2479          0\n",
      "                      Subflow_Bwd_Pkts      int64          42          0\n",
      "                      Subflow_Bwd_Byts      int64        2612          0\n",
      "                     Init_Fwd_Win_Byts      int64           1          0\n",
      "                     Init_Bwd_Win_Byts      int64        3616          0\n",
      "                     Fwd_Act_Data_Pkts      int64         116          0\n",
      "                      Fwd_Seg_Size_Min      int64           1          0\n",
      "                           Active_Mean    float64        1950          0\n",
      "                            Active_Std    float64        1264          0\n",
      "                            Active_Max    float64        1346          0\n",
      "                            Active_Min    float64        1207          0\n",
      "                             Idle_Mean    float64       17905          0\n",
      "                              Idle_Std    float64       24210          0\n",
      "                              Idle_Max    float64       11956          0\n",
      "                              Idle_Min    float64       10872          0\n",
      "                                 Label     object           2          0\n",
      "                                   Cat     object           5          0\n",
      "                               Sub_Cat     object           9          0\n",
      "Expact a DataFrame but got a <class 'pandas.core.frame.DataFrame'>\n"
     ]
    }
   ],
   "source": [
    "\n",
    "initial_EDA(Maindataset)\n"
   ]
  },
  {
   "cell_type": "code",
   "execution_count": 11,
   "id": "d8465988",
   "metadata": {
    "execution": {
     "iopub.execute_input": "2024-01-21T20:48:38.478396Z",
     "iopub.status.busy": "2024-01-21T20:48:38.478086Z",
     "iopub.status.idle": "2024-01-21T20:48:38.697128Z",
     "shell.execute_reply": "2024-01-21T20:48:38.696203Z"
    },
    "papermill": {
     "duration": 0.241865,
     "end_time": "2024-01-21T20:48:38.699072",
     "exception": false,
     "start_time": "2024-01-21T20:48:38.457207",
     "status": "completed"
    },
    "tags": []
   },
   "outputs": [
    {
     "data": {
      "text/html": [
       "<div>\n",
       "<style scoped>\n",
       "    .dataframe tbody tr th:only-of-type {\n",
       "        vertical-align: middle;\n",
       "    }\n",
       "\n",
       "    .dataframe tbody tr th {\n",
       "        vertical-align: top;\n",
       "    }\n",
       "\n",
       "    .dataframe thead th {\n",
       "        text-align: right;\n",
       "    }\n",
       "</style>\n",
       "<table border=\"1\" class=\"dataframe\">\n",
       "  <thead>\n",
       "    <tr style=\"text-align: right;\">\n",
       "      <th></th>\n",
       "      <th>total_missing</th>\n",
       "    </tr>\n",
       "  </thead>\n",
       "  <tbody>\n",
       "    <tr>\n",
       "      <th>Src_Port</th>\n",
       "      <td>0</td>\n",
       "    </tr>\n",
       "    <tr>\n",
       "      <th>Dst_Port</th>\n",
       "      <td>0</td>\n",
       "    </tr>\n",
       "    <tr>\n",
       "      <th>Protocol</th>\n",
       "      <td>0</td>\n",
       "    </tr>\n",
       "    <tr>\n",
       "      <th>Flow_Duration</th>\n",
       "      <td>0</td>\n",
       "    </tr>\n",
       "    <tr>\n",
       "      <th>Tot_Fwd_Pkts</th>\n",
       "      <td>0</td>\n",
       "    </tr>\n",
       "    <tr>\n",
       "      <th>...</th>\n",
       "      <td>...</td>\n",
       "    </tr>\n",
       "    <tr>\n",
       "      <th>Idle_Max</th>\n",
       "      <td>0</td>\n",
       "    </tr>\n",
       "    <tr>\n",
       "      <th>Idle_Min</th>\n",
       "      <td>0</td>\n",
       "    </tr>\n",
       "    <tr>\n",
       "      <th>Label</th>\n",
       "      <td>0</td>\n",
       "    </tr>\n",
       "    <tr>\n",
       "      <th>Cat</th>\n",
       "      <td>0</td>\n",
       "    </tr>\n",
       "    <tr>\n",
       "      <th>Sub_Cat</th>\n",
       "      <td>0</td>\n",
       "    </tr>\n",
       "  </tbody>\n",
       "</table>\n",
       "<p>82 rows × 1 columns</p>\n",
       "</div>"
      ],
      "text/plain": [
       "               total_missing\n",
       "Src_Port                   0\n",
       "Dst_Port                   0\n",
       "Protocol                   0\n",
       "Flow_Duration              0\n",
       "Tot_Fwd_Pkts               0\n",
       "...                      ...\n",
       "Idle_Max                   0\n",
       "Idle_Min                   0\n",
       "Label                      0\n",
       "Cat                        0\n",
       "Sub_Cat                    0\n",
       "\n",
       "[82 rows x 1 columns]"
      ]
     },
     "execution_count": 11,
     "metadata": {},
     "output_type": "execute_result"
    }
   ],
   "source": [
    "# removing the missing values\n",
    "Missingdata = pd.DataFrame({'total_missing': Maindataset.isnull().sum()})\n",
    "Missingdata\n"
   ]
  },
  {
   "cell_type": "code",
   "execution_count": 12,
   "id": "97cbfc37",
   "metadata": {
    "execution": {
     "iopub.execute_input": "2024-01-21T20:48:38.741051Z",
     "iopub.status.busy": "2024-01-21T20:48:38.740744Z",
     "iopub.status.idle": "2024-01-21T20:48:39.101165Z",
     "shell.execute_reply": "2024-01-21T20:48:39.100254Z"
    },
    "papermill": {
     "duration": 0.384118,
     "end_time": "2024-01-21T20:48:39.103624",
     "exception": false,
     "start_time": "2024-01-21T20:48:38.719506",
     "status": "completed"
    },
    "tags": []
   },
   "outputs": [],
   "source": [
    "Maindataset = Maindataset.dropna()\n"
   ]
  },
  {
   "cell_type": "code",
   "execution_count": 13,
   "id": "3fac2f8e",
   "metadata": {
    "execution": {
     "iopub.execute_input": "2024-01-21T20:48:39.145747Z",
     "iopub.status.busy": "2024-01-21T20:48:39.145398Z",
     "iopub.status.idle": "2024-01-21T20:48:39.154990Z",
     "shell.execute_reply": "2024-01-21T20:48:39.154158Z"
    },
    "papermill": {
     "duration": 0.032604,
     "end_time": "2024-01-21T20:48:39.156854",
     "exception": false,
     "start_time": "2024-01-21T20:48:39.124250",
     "status": "completed"
    },
    "tags": []
   },
   "outputs": [
    {
     "data": {
      "text/plain": [
       "['Label', 'Cat', 'Sub_Cat']"
      ]
     },
     "execution_count": 13,
     "metadata": {},
     "output_type": "execute_result"
    }
   ],
   "source": [
    "# label encoding\n",
    "categorical = [col for col in Maindataset.columns if Maindataset[col].dtypes == 'object']\n",
    "\n",
    "categorical"
   ]
  },
  {
   "cell_type": "code",
   "execution_count": 14,
   "id": "361eff88",
   "metadata": {
    "execution": {
     "iopub.execute_input": "2024-01-21T20:48:39.198563Z",
     "iopub.status.busy": "2024-01-21T20:48:39.198276Z",
     "iopub.status.idle": "2024-01-21T20:48:39.675905Z",
     "shell.execute_reply": "2024-01-21T20:48:39.675096Z"
    },
    "papermill": {
     "duration": 0.501256,
     "end_time": "2024-01-21T20:48:39.678291",
     "exception": false,
     "start_time": "2024-01-21T20:48:39.177035",
     "status": "completed"
    },
    "tags": []
   },
   "outputs": [],
   "source": [
    "\n",
    "from sklearn.preprocessing import LabelEncoder\n",
    "\n",
    "encoder = LabelEncoder()\n",
    "Maindataset[\"Label\"] = encoder.fit_transform(\n",
    "    Maindataset[\"Label\"])\n",
    "\n",
    "Maindataset[\"Cat\"] = encoder.fit_transform(\n",
    "    Maindataset[\"Cat\"])\n",
    "\n",
    "Maindataset[\"Sub_Cat\"] = encoder.fit_transform(\n",
    "    Maindataset[\"Sub_Cat\"])\n",
    "\n"
   ]
  },
  {
   "cell_type": "code",
   "execution_count": 15,
   "id": "685c0336",
   "metadata": {
    "execution": {
     "iopub.execute_input": "2024-01-21T20:48:39.720860Z",
     "iopub.status.busy": "2024-01-21T20:48:39.720493Z",
     "iopub.status.idle": "2024-01-21T20:48:39.922695Z",
     "shell.execute_reply": "2024-01-21T20:48:39.921807Z"
    },
    "papermill": {
     "duration": 0.22612,
     "end_time": "2024-01-21T20:48:39.925259",
     "exception": false,
     "start_time": "2024-01-21T20:48:39.699139",
     "status": "completed"
    },
    "tags": []
   },
   "outputs": [
    {
     "data": {
      "text/html": [
       "<div>\n",
       "<style scoped>\n",
       "    .dataframe tbody tr th:only-of-type {\n",
       "        vertical-align: middle;\n",
       "    }\n",
       "\n",
       "    .dataframe tbody tr th {\n",
       "        vertical-align: top;\n",
       "    }\n",
       "\n",
       "    .dataframe thead th {\n",
       "        text-align: right;\n",
       "    }\n",
       "</style>\n",
       "<table border=\"1\" class=\"dataframe\">\n",
       "  <thead>\n",
       "    <tr style=\"text-align: right;\">\n",
       "      <th></th>\n",
       "      <th>Src_Port</th>\n",
       "      <th>Dst_Port</th>\n",
       "      <th>Protocol</th>\n",
       "      <th>Flow_Duration</th>\n",
       "      <th>Tot_Fwd_Pkts</th>\n",
       "      <th>Tot_Bwd_Pkts</th>\n",
       "      <th>TotLen_Fwd_Pkts</th>\n",
       "      <th>TotLen_Bwd_Pkts</th>\n",
       "      <th>Fwd_Pkt_Len_Max</th>\n",
       "      <th>Fwd_Pkt_Len_Min</th>\n",
       "      <th>...</th>\n",
       "      <th>Active_Std</th>\n",
       "      <th>Active_Max</th>\n",
       "      <th>Active_Min</th>\n",
       "      <th>Idle_Mean</th>\n",
       "      <th>Idle_Std</th>\n",
       "      <th>Idle_Max</th>\n",
       "      <th>Idle_Min</th>\n",
       "      <th>Label</th>\n",
       "      <th>Cat</th>\n",
       "      <th>Sub_Cat</th>\n",
       "    </tr>\n",
       "  </thead>\n",
       "  <tbody>\n",
       "    <tr>\n",
       "      <th>0</th>\n",
       "      <td>10000</td>\n",
       "      <td>10101</td>\n",
       "      <td>17</td>\n",
       "      <td>75</td>\n",
       "      <td>1</td>\n",
       "      <td>1</td>\n",
       "      <td>982.0</td>\n",
       "      <td>1430.0</td>\n",
       "      <td>982.0</td>\n",
       "      <td>982.0</td>\n",
       "      <td>...</td>\n",
       "      <td>0.0</td>\n",
       "      <td>0.0</td>\n",
       "      <td>0.0</td>\n",
       "      <td>75.0</td>\n",
       "      <td>0.000000</td>\n",
       "      <td>75.0</td>\n",
       "      <td>75.0</td>\n",
       "      <td>0</td>\n",
       "      <td>2</td>\n",
       "      <td>2</td>\n",
       "    </tr>\n",
       "    <tr>\n",
       "      <th>1</th>\n",
       "      <td>2179</td>\n",
       "      <td>554</td>\n",
       "      <td>6</td>\n",
       "      <td>5310</td>\n",
       "      <td>1</td>\n",
       "      <td>2</td>\n",
       "      <td>0.0</td>\n",
       "      <td>0.0</td>\n",
       "      <td>0.0</td>\n",
       "      <td>0.0</td>\n",
       "      <td>...</td>\n",
       "      <td>0.0</td>\n",
       "      <td>0.0</td>\n",
       "      <td>0.0</td>\n",
       "      <td>2655.0</td>\n",
       "      <td>2261.327486</td>\n",
       "      <td>4254.0</td>\n",
       "      <td>1056.0</td>\n",
       "      <td>0</td>\n",
       "      <td>0</td>\n",
       "      <td>0</td>\n",
       "    </tr>\n",
       "    <tr>\n",
       "      <th>2</th>\n",
       "      <td>52727</td>\n",
       "      <td>9020</td>\n",
       "      <td>6</td>\n",
       "      <td>141</td>\n",
       "      <td>0</td>\n",
       "      <td>3</td>\n",
       "      <td>0.0</td>\n",
       "      <td>2806.0</td>\n",
       "      <td>0.0</td>\n",
       "      <td>0.0</td>\n",
       "      <td>...</td>\n",
       "      <td>0.0</td>\n",
       "      <td>0.0</td>\n",
       "      <td>0.0</td>\n",
       "      <td>70.5</td>\n",
       "      <td>0.707107</td>\n",
       "      <td>71.0</td>\n",
       "      <td>70.0</td>\n",
       "      <td>0</td>\n",
       "      <td>4</td>\n",
       "      <td>8</td>\n",
       "    </tr>\n",
       "    <tr>\n",
       "      <th>3</th>\n",
       "      <td>52964</td>\n",
       "      <td>9020</td>\n",
       "      <td>6</td>\n",
       "      <td>151</td>\n",
       "      <td>0</td>\n",
       "      <td>2</td>\n",
       "      <td>0.0</td>\n",
       "      <td>2776.0</td>\n",
       "      <td>0.0</td>\n",
       "      <td>0.0</td>\n",
       "      <td>...</td>\n",
       "      <td>0.0</td>\n",
       "      <td>0.0</td>\n",
       "      <td>0.0</td>\n",
       "      <td>151.0</td>\n",
       "      <td>0.000000</td>\n",
       "      <td>151.0</td>\n",
       "      <td>151.0</td>\n",
       "      <td>0</td>\n",
       "      <td>2</td>\n",
       "      <td>4</td>\n",
       "    </tr>\n",
       "    <tr>\n",
       "      <th>4</th>\n",
       "      <td>36763</td>\n",
       "      <td>1900</td>\n",
       "      <td>17</td>\n",
       "      <td>153</td>\n",
       "      <td>2</td>\n",
       "      <td>1</td>\n",
       "      <td>886.0</td>\n",
       "      <td>420.0</td>\n",
       "      <td>452.0</td>\n",
       "      <td>434.0</td>\n",
       "      <td>...</td>\n",
       "      <td>0.0</td>\n",
       "      <td>0.0</td>\n",
       "      <td>0.0</td>\n",
       "      <td>76.5</td>\n",
       "      <td>0.707107</td>\n",
       "      <td>77.0</td>\n",
       "      <td>76.0</td>\n",
       "      <td>0</td>\n",
       "      <td>2</td>\n",
       "      <td>4</td>\n",
       "    </tr>\n",
       "    <tr>\n",
       "      <th>...</th>\n",
       "      <td>...</td>\n",
       "      <td>...</td>\n",
       "      <td>...</td>\n",
       "      <td>...</td>\n",
       "      <td>...</td>\n",
       "      <td>...</td>\n",
       "      <td>...</td>\n",
       "      <td>...</td>\n",
       "      <td>...</td>\n",
       "      <td>...</td>\n",
       "      <td>...</td>\n",
       "      <td>...</td>\n",
       "      <td>...</td>\n",
       "      <td>...</td>\n",
       "      <td>...</td>\n",
       "      <td>...</td>\n",
       "      <td>...</td>\n",
       "      <td>...</td>\n",
       "      <td>...</td>\n",
       "      <td>...</td>\n",
       "      <td>...</td>\n",
       "    </tr>\n",
       "    <tr>\n",
       "      <th>625778</th>\n",
       "      <td>56112</td>\n",
       "      <td>8043</td>\n",
       "      <td>17</td>\n",
       "      <td>277</td>\n",
       "      <td>1</td>\n",
       "      <td>1</td>\n",
       "      <td>18.0</td>\n",
       "      <td>18.0</td>\n",
       "      <td>18.0</td>\n",
       "      <td>18.0</td>\n",
       "      <td>...</td>\n",
       "      <td>0.0</td>\n",
       "      <td>0.0</td>\n",
       "      <td>0.0</td>\n",
       "      <td>277.0</td>\n",
       "      <td>0.000000</td>\n",
       "      <td>277.0</td>\n",
       "      <td>277.0</td>\n",
       "      <td>0</td>\n",
       "      <td>2</td>\n",
       "      <td>5</td>\n",
       "    </tr>\n",
       "    <tr>\n",
       "      <th>625779</th>\n",
       "      <td>4570</td>\n",
       "      <td>554</td>\n",
       "      <td>6</td>\n",
       "      <td>1658</td>\n",
       "      <td>0</td>\n",
       "      <td>2</td>\n",
       "      <td>0.0</td>\n",
       "      <td>0.0</td>\n",
       "      <td>0.0</td>\n",
       "      <td>0.0</td>\n",
       "      <td>...</td>\n",
       "      <td>0.0</td>\n",
       "      <td>0.0</td>\n",
       "      <td>0.0</td>\n",
       "      <td>1658.0</td>\n",
       "      <td>0.000000</td>\n",
       "      <td>1658.0</td>\n",
       "      <td>1658.0</td>\n",
       "      <td>0</td>\n",
       "      <td>0</td>\n",
       "      <td>0</td>\n",
       "    </tr>\n",
       "    <tr>\n",
       "      <th>625780</th>\n",
       "      <td>52739</td>\n",
       "      <td>9020</td>\n",
       "      <td>6</td>\n",
       "      <td>77</td>\n",
       "      <td>1</td>\n",
       "      <td>1</td>\n",
       "      <td>0.0</td>\n",
       "      <td>0.0</td>\n",
       "      <td>0.0</td>\n",
       "      <td>0.0</td>\n",
       "      <td>...</td>\n",
       "      <td>0.0</td>\n",
       "      <td>0.0</td>\n",
       "      <td>0.0</td>\n",
       "      <td>77.0</td>\n",
       "      <td>0.000000</td>\n",
       "      <td>77.0</td>\n",
       "      <td>77.0</td>\n",
       "      <td>0</td>\n",
       "      <td>4</td>\n",
       "      <td>8</td>\n",
       "    </tr>\n",
       "    <tr>\n",
       "      <th>625781</th>\n",
       "      <td>9020</td>\n",
       "      <td>49784</td>\n",
       "      <td>6</td>\n",
       "      <td>240</td>\n",
       "      <td>2</td>\n",
       "      <td>1</td>\n",
       "      <td>2776.0</td>\n",
       "      <td>1388.0</td>\n",
       "      <td>1388.0</td>\n",
       "      <td>1388.0</td>\n",
       "      <td>...</td>\n",
       "      <td>0.0</td>\n",
       "      <td>0.0</td>\n",
       "      <td>0.0</td>\n",
       "      <td>120.0</td>\n",
       "      <td>7.071068</td>\n",
       "      <td>125.0</td>\n",
       "      <td>115.0</td>\n",
       "      <td>1</td>\n",
       "      <td>3</td>\n",
       "      <td>6</td>\n",
       "    </tr>\n",
       "    <tr>\n",
       "      <th>625782</th>\n",
       "      <td>10000</td>\n",
       "      <td>10101</td>\n",
       "      <td>17</td>\n",
       "      <td>198</td>\n",
       "      <td>2</td>\n",
       "      <td>1</td>\n",
       "      <td>2860.0</td>\n",
       "      <td>1430.0</td>\n",
       "      <td>1430.0</td>\n",
       "      <td>1430.0</td>\n",
       "      <td>...</td>\n",
       "      <td>0.0</td>\n",
       "      <td>0.0</td>\n",
       "      <td>0.0</td>\n",
       "      <td>99.0</td>\n",
       "      <td>32.526912</td>\n",
       "      <td>122.0</td>\n",
       "      <td>76.0</td>\n",
       "      <td>0</td>\n",
       "      <td>2</td>\n",
       "      <td>5</td>\n",
       "    </tr>\n",
       "  </tbody>\n",
       "</table>\n",
       "<p>625783 rows × 82 columns</p>\n",
       "</div>"
      ],
      "text/plain": [
       "        Src_Port  Dst_Port  Protocol  Flow_Duration  Tot_Fwd_Pkts  \\\n",
       "0          10000     10101        17             75             1   \n",
       "1           2179       554         6           5310             1   \n",
       "2          52727      9020         6            141             0   \n",
       "3          52964      9020         6            151             0   \n",
       "4          36763      1900        17            153             2   \n",
       "...          ...       ...       ...            ...           ...   \n",
       "625778     56112      8043        17            277             1   \n",
       "625779      4570       554         6           1658             0   \n",
       "625780     52739      9020         6             77             1   \n",
       "625781      9020     49784         6            240             2   \n",
       "625782     10000     10101        17            198             2   \n",
       "\n",
       "        Tot_Bwd_Pkts  TotLen_Fwd_Pkts  TotLen_Bwd_Pkts  Fwd_Pkt_Len_Max  \\\n",
       "0                  1            982.0           1430.0            982.0   \n",
       "1                  2              0.0              0.0              0.0   \n",
       "2                  3              0.0           2806.0              0.0   \n",
       "3                  2              0.0           2776.0              0.0   \n",
       "4                  1            886.0            420.0            452.0   \n",
       "...              ...              ...              ...              ...   \n",
       "625778             1             18.0             18.0             18.0   \n",
       "625779             2              0.0              0.0              0.0   \n",
       "625780             1              0.0              0.0              0.0   \n",
       "625781             1           2776.0           1388.0           1388.0   \n",
       "625782             1           2860.0           1430.0           1430.0   \n",
       "\n",
       "        Fwd_Pkt_Len_Min  ...  Active_Std  Active_Max  Active_Min  Idle_Mean  \\\n",
       "0                 982.0  ...         0.0         0.0         0.0       75.0   \n",
       "1                   0.0  ...         0.0         0.0         0.0     2655.0   \n",
       "2                   0.0  ...         0.0         0.0         0.0       70.5   \n",
       "3                   0.0  ...         0.0         0.0         0.0      151.0   \n",
       "4                 434.0  ...         0.0         0.0         0.0       76.5   \n",
       "...                 ...  ...         ...         ...         ...        ...   \n",
       "625778             18.0  ...         0.0         0.0         0.0      277.0   \n",
       "625779              0.0  ...         0.0         0.0         0.0     1658.0   \n",
       "625780              0.0  ...         0.0         0.0         0.0       77.0   \n",
       "625781           1388.0  ...         0.0         0.0         0.0      120.0   \n",
       "625782           1430.0  ...         0.0         0.0         0.0       99.0   \n",
       "\n",
       "           Idle_Std  Idle_Max  Idle_Min  Label  Cat  Sub_Cat  \n",
       "0          0.000000      75.0      75.0      0    2        2  \n",
       "1       2261.327486    4254.0    1056.0      0    0        0  \n",
       "2          0.707107      71.0      70.0      0    4        8  \n",
       "3          0.000000     151.0     151.0      0    2        4  \n",
       "4          0.707107      77.0      76.0      0    2        4  \n",
       "...             ...       ...       ...    ...  ...      ...  \n",
       "625778     0.000000     277.0     277.0      0    2        5  \n",
       "625779     0.000000    1658.0    1658.0      0    0        0  \n",
       "625780     0.000000      77.0      77.0      0    4        8  \n",
       "625781     7.071068     125.0     115.0      1    3        6  \n",
       "625782    32.526912     122.0      76.0      0    2        5  \n",
       "\n",
       "[625783 rows x 82 columns]"
      ]
     },
     "execution_count": 15,
     "metadata": {},
     "output_type": "execute_result"
    }
   ],
   "source": [
    "Maindataset"
   ]
  },
  {
   "cell_type": "code",
   "execution_count": 16,
   "id": "b5fe5528",
   "metadata": {
    "execution": {
     "iopub.execute_input": "2024-01-21T20:48:39.970787Z",
     "iopub.status.busy": "2024-01-21T20:48:39.970464Z",
     "iopub.status.idle": "2024-01-21T20:48:40.058052Z",
     "shell.execute_reply": "2024-01-21T20:48:40.057097Z"
    },
    "papermill": {
     "duration": 0.112164,
     "end_time": "2024-01-21T20:48:40.060242",
     "exception": false,
     "start_time": "2024-01-21T20:48:39.948078",
     "status": "completed"
    },
    "tags": []
   },
   "outputs": [
    {
     "name": "stdout",
     "output_type": "stream",
     "text": [
      "<class 'pandas.core.frame.DataFrame'>\n",
      "RangeIndex: 625783 entries, 0 to 625782\n",
      "Data columns (total 82 columns):\n",
      " #   Column             Non-Null Count   Dtype  \n",
      "---  ------             --------------   -----  \n",
      " 0   Src_Port           625783 non-null  int64  \n",
      " 1   Dst_Port           625783 non-null  int64  \n",
      " 2   Protocol           625783 non-null  int64  \n",
      " 3   Flow_Duration      625783 non-null  int64  \n",
      " 4   Tot_Fwd_Pkts       625783 non-null  int64  \n",
      " 5   Tot_Bwd_Pkts       625783 non-null  int64  \n",
      " 6   TotLen_Fwd_Pkts    625783 non-null  float64\n",
      " 7   TotLen_Bwd_Pkts    625783 non-null  float64\n",
      " 8   Fwd_Pkt_Len_Max    625783 non-null  float64\n",
      " 9   Fwd_Pkt_Len_Min    625783 non-null  float64\n",
      " 10  Fwd_Pkt_Len_Mean   625783 non-null  float64\n",
      " 11  Fwd_Pkt_Len_Std    625783 non-null  float64\n",
      " 12  Bwd_Pkt_Len_Max    625783 non-null  float64\n",
      " 13  Bwd_Pkt_Len_Min    625783 non-null  float64\n",
      " 14  Bwd_Pkt_Len_Mean   625783 non-null  float64\n",
      " 15  Bwd_Pkt_Len_Std    625783 non-null  float64\n",
      " 16  Flow_Byts/s        625783 non-null  float64\n",
      " 17  Flow_Pkts/s        625783 non-null  float64\n",
      " 18  Flow_IAT_Mean      625783 non-null  float64\n",
      " 19  Flow_IAT_Std       625783 non-null  float64\n",
      " 20  Flow_IAT_Max       625783 non-null  float64\n",
      " 21  Flow_IAT_Min       625783 non-null  float64\n",
      " 22  Fwd_IAT_Tot        625783 non-null  float64\n",
      " 23  Fwd_IAT_Mean       625783 non-null  float64\n",
      " 24  Fwd_IAT_Std        625783 non-null  float64\n",
      " 25  Fwd_IAT_Max        625783 non-null  float64\n",
      " 26  Fwd_IAT_Min        625783 non-null  float64\n",
      " 27  Bwd_IAT_Tot        625783 non-null  float64\n",
      " 28  Bwd_IAT_Mean       625783 non-null  float64\n",
      " 29  Bwd_IAT_Std        625783 non-null  float64\n",
      " 30  Bwd_IAT_Max        625783 non-null  float64\n",
      " 31  Bwd_IAT_Min        625783 non-null  float64\n",
      " 32  Fwd_PSH_Flags      625783 non-null  int64  \n",
      " 33  Bwd_PSH_Flags      625783 non-null  int64  \n",
      " 34  Fwd_URG_Flags      625783 non-null  int64  \n",
      " 35  Bwd_URG_Flags      625783 non-null  int64  \n",
      " 36  Fwd_Header_Len     625783 non-null  int64  \n",
      " 37  Bwd_Header_Len     625783 non-null  int64  \n",
      " 38  Fwd_Pkts/s         625783 non-null  float64\n",
      " 39  Bwd_Pkts/s         625783 non-null  float64\n",
      " 40  Pkt_Len_Min        625783 non-null  float64\n",
      " 41  Pkt_Len_Max        625783 non-null  float64\n",
      " 42  Pkt_Len_Mean       625783 non-null  float64\n",
      " 43  Pkt_Len_Std        625783 non-null  float64\n",
      " 44  Pkt_Len_Var        625783 non-null  float64\n",
      " 45  FIN_Flag_Cnt       625783 non-null  int64  \n",
      " 46  SYN_Flag_Cnt       625783 non-null  int64  \n",
      " 47  RST_Flag_Cnt       625783 non-null  int64  \n",
      " 48  PSH_Flag_Cnt       625783 non-null  int64  \n",
      " 49  ACK_Flag_Cnt       625783 non-null  int64  \n",
      " 50  URG_Flag_Cnt       625783 non-null  int64  \n",
      " 51  CWE_Flag_Count     625783 non-null  int64  \n",
      " 52  ECE_Flag_Cnt       625783 non-null  int64  \n",
      " 53  Down/Up_Ratio      625783 non-null  float64\n",
      " 54  Pkt_Size_Avg       625783 non-null  float64\n",
      " 55  Fwd_Seg_Size_Avg   625783 non-null  float64\n",
      " 56  Bwd_Seg_Size_Avg   625783 non-null  float64\n",
      " 57  Fwd_Byts/b_Avg     625783 non-null  int64  \n",
      " 58  Fwd_Pkts/b_Avg     625783 non-null  int64  \n",
      " 59  Fwd_Blk_Rate_Avg   625783 non-null  int64  \n",
      " 60  Bwd_Byts/b_Avg     625783 non-null  int64  \n",
      " 61  Bwd_Pkts/b_Avg     625783 non-null  int64  \n",
      " 62  Bwd_Blk_Rate_Avg   625783 non-null  int64  \n",
      " 63  Subflow_Fwd_Pkts   625783 non-null  int64  \n",
      " 64  Subflow_Fwd_Byts   625783 non-null  int64  \n",
      " 65  Subflow_Bwd_Pkts   625783 non-null  int64  \n",
      " 66  Subflow_Bwd_Byts   625783 non-null  int64  \n",
      " 67  Init_Fwd_Win_Byts  625783 non-null  int64  \n",
      " 68  Init_Bwd_Win_Byts  625783 non-null  int64  \n",
      " 69  Fwd_Act_Data_Pkts  625783 non-null  int64  \n",
      " 70  Fwd_Seg_Size_Min   625783 non-null  int64  \n",
      " 71  Active_Mean        625783 non-null  float64\n",
      " 72  Active_Std         625783 non-null  float64\n",
      " 73  Active_Max         625783 non-null  float64\n",
      " 74  Active_Min         625783 non-null  float64\n",
      " 75  Idle_Mean          625783 non-null  float64\n",
      " 76  Idle_Std           625783 non-null  float64\n",
      " 77  Idle_Max           625783 non-null  float64\n",
      " 78  Idle_Min           625783 non-null  float64\n",
      " 79  Label              625783 non-null  int64  \n",
      " 80  Cat                625783 non-null  int64  \n",
      " 81  Sub_Cat            625783 non-null  int64  \n",
      "dtypes: float64(45), int64(37)\n",
      "memory usage: 391.5 MB\n"
     ]
    }
   ],
   "source": [
    "Maindataset.info()"
   ]
  },
  {
   "cell_type": "code",
   "execution_count": 17,
   "id": "c29df6c2",
   "metadata": {
    "execution": {
     "iopub.execute_input": "2024-01-21T20:48:40.104295Z",
     "iopub.status.busy": "2024-01-21T20:48:40.103983Z",
     "iopub.status.idle": "2024-01-21T20:48:40.171999Z",
     "shell.execute_reply": "2024-01-21T20:48:40.171072Z"
    },
    "papermill": {
     "duration": 0.092077,
     "end_time": "2024-01-21T20:48:40.174082",
     "exception": false,
     "start_time": "2024-01-21T20:48:40.082005",
     "status": "completed"
    },
    "tags": []
   },
   "outputs": [
    {
     "data": {
      "text/html": [
       "<div>\n",
       "<style scoped>\n",
       "    .dataframe tbody tr th:only-of-type {\n",
       "        vertical-align: middle;\n",
       "    }\n",
       "\n",
       "    .dataframe tbody tr th {\n",
       "        vertical-align: top;\n",
       "    }\n",
       "\n",
       "    .dataframe thead th {\n",
       "        text-align: right;\n",
       "    }\n",
       "</style>\n",
       "<table border=\"1\" class=\"dataframe\">\n",
       "  <thead>\n",
       "    <tr style=\"text-align: right;\">\n",
       "      <th></th>\n",
       "      <th>total_missing</th>\n",
       "    </tr>\n",
       "  </thead>\n",
       "  <tbody>\n",
       "    <tr>\n",
       "      <th>Src_Port</th>\n",
       "      <td>0</td>\n",
       "    </tr>\n",
       "    <tr>\n",
       "      <th>Dst_Port</th>\n",
       "      <td>0</td>\n",
       "    </tr>\n",
       "    <tr>\n",
       "      <th>Protocol</th>\n",
       "      <td>0</td>\n",
       "    </tr>\n",
       "    <tr>\n",
       "      <th>Flow_Duration</th>\n",
       "      <td>0</td>\n",
       "    </tr>\n",
       "    <tr>\n",
       "      <th>Tot_Fwd_Pkts</th>\n",
       "      <td>0</td>\n",
       "    </tr>\n",
       "    <tr>\n",
       "      <th>...</th>\n",
       "      <td>...</td>\n",
       "    </tr>\n",
       "    <tr>\n",
       "      <th>Idle_Max</th>\n",
       "      <td>0</td>\n",
       "    </tr>\n",
       "    <tr>\n",
       "      <th>Idle_Min</th>\n",
       "      <td>0</td>\n",
       "    </tr>\n",
       "    <tr>\n",
       "      <th>Label</th>\n",
       "      <td>0</td>\n",
       "    </tr>\n",
       "    <tr>\n",
       "      <th>Cat</th>\n",
       "      <td>0</td>\n",
       "    </tr>\n",
       "    <tr>\n",
       "      <th>Sub_Cat</th>\n",
       "      <td>0</td>\n",
       "    </tr>\n",
       "  </tbody>\n",
       "</table>\n",
       "<p>82 rows × 1 columns</p>\n",
       "</div>"
      ],
      "text/plain": [
       "               total_missing\n",
       "Src_Port                   0\n",
       "Dst_Port                   0\n",
       "Protocol                   0\n",
       "Flow_Duration              0\n",
       "Tot_Fwd_Pkts               0\n",
       "...                      ...\n",
       "Idle_Max                   0\n",
       "Idle_Min                   0\n",
       "Label                      0\n",
       "Cat                        0\n",
       "Sub_Cat                    0\n",
       "\n",
       "[82 rows x 1 columns]"
      ]
     },
     "execution_count": 17,
     "metadata": {},
     "output_type": "execute_result"
    }
   ],
   "source": [
    "\n",
    "# double checking the missing values\n",
    "Maindataset_1 = pd.DataFrame({'total_missing': Maindataset.isnull().sum()})\n",
    "Maindataset_1\n"
   ]
  },
  {
   "cell_type": "code",
   "execution_count": 18,
   "id": "3d109daf",
   "metadata": {
    "execution": {
     "iopub.execute_input": "2024-01-21T20:48:40.218520Z",
     "iopub.status.busy": "2024-01-21T20:48:40.218224Z",
     "iopub.status.idle": "2024-01-21T20:48:40.223767Z",
     "shell.execute_reply": "2024-01-21T20:48:40.222929Z"
    },
    "papermill": {
     "duration": 0.030089,
     "end_time": "2024-01-21T20:48:40.225744",
     "exception": false,
     "start_time": "2024-01-21T20:48:40.195655",
     "status": "completed"
    },
    "tags": []
   },
   "outputs": [
    {
     "data": {
      "text/plain": [
       "pandas.core.frame.DataFrame"
      ]
     },
     "execution_count": 18,
     "metadata": {},
     "output_type": "execute_result"
    }
   ],
   "source": [
    "type(Maindataset_1)"
   ]
  },
  {
   "cell_type": "code",
   "execution_count": 19,
   "id": "d525d8aa",
   "metadata": {
    "execution": {
     "iopub.execute_input": "2024-01-21T20:48:40.270291Z",
     "iopub.status.busy": "2024-01-21T20:48:40.269994Z",
     "iopub.status.idle": "2024-01-21T20:48:40.275540Z",
     "shell.execute_reply": "2024-01-21T20:48:40.274626Z"
    },
    "papermill": {
     "duration": 0.030479,
     "end_time": "2024-01-21T20:48:40.277528",
     "exception": false,
     "start_time": "2024-01-21T20:48:40.247049",
     "status": "completed"
    },
    "tags": []
   },
   "outputs": [],
   "source": [
    "def clean_dataset(df):\n",
    "    assert isinstance(df, pd.DataFrame), \"df needs to be a pd.DataFrame\"\n",
    "    df.dropna(inplace=True)\n",
    "    indices_to_keep = ~df.isin([np.nan, np.inf, -np.inf]).any(axis=1)\n",
    "    return df[indices_to_keep].astype(np.float64)\n"
   ]
  },
  {
   "cell_type": "code",
   "execution_count": 20,
   "id": "602a4397",
   "metadata": {
    "execution": {
     "iopub.execute_input": "2024-01-21T20:48:40.323379Z",
     "iopub.status.busy": "2024-01-21T20:48:40.322608Z",
     "iopub.status.idle": "2024-01-21T20:48:40.328172Z",
     "shell.execute_reply": "2024-01-21T20:48:40.327220Z"
    },
    "papermill": {
     "duration": 0.029928,
     "end_time": "2024-01-21T20:48:40.330120",
     "exception": false,
     "start_time": "2024-01-21T20:48:40.300192",
     "status": "completed"
    },
    "tags": []
   },
   "outputs": [],
   "source": [
    "cleanedDF = pd.DataFrame()"
   ]
  },
  {
   "cell_type": "code",
   "execution_count": 21,
   "id": "6d7067f5",
   "metadata": {
    "execution": {
     "iopub.execute_input": "2024-01-21T20:48:40.374210Z",
     "iopub.status.busy": "2024-01-21T20:48:40.373955Z",
     "iopub.status.idle": "2024-01-21T20:48:46.839313Z",
     "shell.execute_reply": "2024-01-21T20:48:46.838515Z"
    },
    "papermill": {
     "duration": 6.49035,
     "end_time": "2024-01-21T20:48:46.841681",
     "exception": false,
     "start_time": "2024-01-21T20:48:40.351331",
     "status": "completed"
    },
    "tags": []
   },
   "outputs": [],
   "source": [
    "cleanedDF = clean_dataset(Maindataset)"
   ]
  },
  {
   "cell_type": "code",
   "execution_count": 22,
   "id": "1644334a",
   "metadata": {
    "execution": {
     "iopub.execute_input": "2024-01-21T20:48:46.887777Z",
     "iopub.status.busy": "2024-01-21T20:48:46.887412Z",
     "iopub.status.idle": "2024-01-21T20:48:46.921238Z",
     "shell.execute_reply": "2024-01-21T20:48:46.919923Z"
    },
    "papermill": {
     "duration": 0.059405,
     "end_time": "2024-01-21T20:48:46.923326",
     "exception": false,
     "start_time": "2024-01-21T20:48:46.863921",
     "status": "completed"
    },
    "tags": []
   },
   "outputs": [
    {
     "data": {
      "text/html": [
       "<div>\n",
       "<style scoped>\n",
       "    .dataframe tbody tr th:only-of-type {\n",
       "        vertical-align: middle;\n",
       "    }\n",
       "\n",
       "    .dataframe tbody tr th {\n",
       "        vertical-align: top;\n",
       "    }\n",
       "\n",
       "    .dataframe thead th {\n",
       "        text-align: right;\n",
       "    }\n",
       "</style>\n",
       "<table border=\"1\" class=\"dataframe\">\n",
       "  <thead>\n",
       "    <tr style=\"text-align: right;\">\n",
       "      <th></th>\n",
       "      <th>Src_Port</th>\n",
       "      <th>Dst_Port</th>\n",
       "      <th>Protocol</th>\n",
       "      <th>Flow_Duration</th>\n",
       "      <th>Tot_Fwd_Pkts</th>\n",
       "      <th>Tot_Bwd_Pkts</th>\n",
       "      <th>TotLen_Fwd_Pkts</th>\n",
       "      <th>TotLen_Bwd_Pkts</th>\n",
       "      <th>Fwd_Pkt_Len_Max</th>\n",
       "      <th>Fwd_Pkt_Len_Min</th>\n",
       "      <th>...</th>\n",
       "      <th>Active_Std</th>\n",
       "      <th>Active_Max</th>\n",
       "      <th>Active_Min</th>\n",
       "      <th>Idle_Mean</th>\n",
       "      <th>Idle_Std</th>\n",
       "      <th>Idle_Max</th>\n",
       "      <th>Idle_Min</th>\n",
       "      <th>Label</th>\n",
       "      <th>Cat</th>\n",
       "      <th>Sub_Cat</th>\n",
       "    </tr>\n",
       "  </thead>\n",
       "  <tbody>\n",
       "    <tr>\n",
       "      <th>0</th>\n",
       "      <td>10000.0</td>\n",
       "      <td>10101.0</td>\n",
       "      <td>17.0</td>\n",
       "      <td>75.0</td>\n",
       "      <td>1.0</td>\n",
       "      <td>1.0</td>\n",
       "      <td>982.0</td>\n",
       "      <td>1430.0</td>\n",
       "      <td>982.0</td>\n",
       "      <td>982.0</td>\n",
       "      <td>...</td>\n",
       "      <td>0.0</td>\n",
       "      <td>0.0</td>\n",
       "      <td>0.0</td>\n",
       "      <td>75.0</td>\n",
       "      <td>0.000000</td>\n",
       "      <td>75.0</td>\n",
       "      <td>75.0</td>\n",
       "      <td>0.0</td>\n",
       "      <td>2.0</td>\n",
       "      <td>2.0</td>\n",
       "    </tr>\n",
       "    <tr>\n",
       "      <th>1</th>\n",
       "      <td>2179.0</td>\n",
       "      <td>554.0</td>\n",
       "      <td>6.0</td>\n",
       "      <td>5310.0</td>\n",
       "      <td>1.0</td>\n",
       "      <td>2.0</td>\n",
       "      <td>0.0</td>\n",
       "      <td>0.0</td>\n",
       "      <td>0.0</td>\n",
       "      <td>0.0</td>\n",
       "      <td>...</td>\n",
       "      <td>0.0</td>\n",
       "      <td>0.0</td>\n",
       "      <td>0.0</td>\n",
       "      <td>2655.0</td>\n",
       "      <td>2261.327486</td>\n",
       "      <td>4254.0</td>\n",
       "      <td>1056.0</td>\n",
       "      <td>0.0</td>\n",
       "      <td>0.0</td>\n",
       "      <td>0.0</td>\n",
       "    </tr>\n",
       "    <tr>\n",
       "      <th>2</th>\n",
       "      <td>52727.0</td>\n",
       "      <td>9020.0</td>\n",
       "      <td>6.0</td>\n",
       "      <td>141.0</td>\n",
       "      <td>0.0</td>\n",
       "      <td>3.0</td>\n",
       "      <td>0.0</td>\n",
       "      <td>2806.0</td>\n",
       "      <td>0.0</td>\n",
       "      <td>0.0</td>\n",
       "      <td>...</td>\n",
       "      <td>0.0</td>\n",
       "      <td>0.0</td>\n",
       "      <td>0.0</td>\n",
       "      <td>70.5</td>\n",
       "      <td>0.707107</td>\n",
       "      <td>71.0</td>\n",
       "      <td>70.0</td>\n",
       "      <td>0.0</td>\n",
       "      <td>4.0</td>\n",
       "      <td>8.0</td>\n",
       "    </tr>\n",
       "    <tr>\n",
       "      <th>3</th>\n",
       "      <td>52964.0</td>\n",
       "      <td>9020.0</td>\n",
       "      <td>6.0</td>\n",
       "      <td>151.0</td>\n",
       "      <td>0.0</td>\n",
       "      <td>2.0</td>\n",
       "      <td>0.0</td>\n",
       "      <td>2776.0</td>\n",
       "      <td>0.0</td>\n",
       "      <td>0.0</td>\n",
       "      <td>...</td>\n",
       "      <td>0.0</td>\n",
       "      <td>0.0</td>\n",
       "      <td>0.0</td>\n",
       "      <td>151.0</td>\n",
       "      <td>0.000000</td>\n",
       "      <td>151.0</td>\n",
       "      <td>151.0</td>\n",
       "      <td>0.0</td>\n",
       "      <td>2.0</td>\n",
       "      <td>4.0</td>\n",
       "    </tr>\n",
       "    <tr>\n",
       "      <th>4</th>\n",
       "      <td>36763.0</td>\n",
       "      <td>1900.0</td>\n",
       "      <td>17.0</td>\n",
       "      <td>153.0</td>\n",
       "      <td>2.0</td>\n",
       "      <td>1.0</td>\n",
       "      <td>886.0</td>\n",
       "      <td>420.0</td>\n",
       "      <td>452.0</td>\n",
       "      <td>434.0</td>\n",
       "      <td>...</td>\n",
       "      <td>0.0</td>\n",
       "      <td>0.0</td>\n",
       "      <td>0.0</td>\n",
       "      <td>76.5</td>\n",
       "      <td>0.707107</td>\n",
       "      <td>77.0</td>\n",
       "      <td>76.0</td>\n",
       "      <td>0.0</td>\n",
       "      <td>2.0</td>\n",
       "      <td>4.0</td>\n",
       "    </tr>\n",
       "  </tbody>\n",
       "</table>\n",
       "<p>5 rows × 82 columns</p>\n",
       "</div>"
      ],
      "text/plain": [
       "   Src_Port  Dst_Port  Protocol  Flow_Duration  Tot_Fwd_Pkts  Tot_Bwd_Pkts  \\\n",
       "0   10000.0   10101.0      17.0           75.0           1.0           1.0   \n",
       "1    2179.0     554.0       6.0         5310.0           1.0           2.0   \n",
       "2   52727.0    9020.0       6.0          141.0           0.0           3.0   \n",
       "3   52964.0    9020.0       6.0          151.0           0.0           2.0   \n",
       "4   36763.0    1900.0      17.0          153.0           2.0           1.0   \n",
       "\n",
       "   TotLen_Fwd_Pkts  TotLen_Bwd_Pkts  Fwd_Pkt_Len_Max  Fwd_Pkt_Len_Min  ...  \\\n",
       "0            982.0           1430.0            982.0            982.0  ...   \n",
       "1              0.0              0.0              0.0              0.0  ...   \n",
       "2              0.0           2806.0              0.0              0.0  ...   \n",
       "3              0.0           2776.0              0.0              0.0  ...   \n",
       "4            886.0            420.0            452.0            434.0  ...   \n",
       "\n",
       "   Active_Std  Active_Max  Active_Min  Idle_Mean     Idle_Std  Idle_Max  \\\n",
       "0         0.0         0.0         0.0       75.0     0.000000      75.0   \n",
       "1         0.0         0.0         0.0     2655.0  2261.327486    4254.0   \n",
       "2         0.0         0.0         0.0       70.5     0.707107      71.0   \n",
       "3         0.0         0.0         0.0      151.0     0.000000     151.0   \n",
       "4         0.0         0.0         0.0       76.5     0.707107      77.0   \n",
       "\n",
       "   Idle_Min  Label  Cat  Sub_Cat  \n",
       "0      75.0    0.0  2.0      2.0  \n",
       "1    1056.0    0.0  0.0      0.0  \n",
       "2      70.0    0.0  4.0      8.0  \n",
       "3     151.0    0.0  2.0      4.0  \n",
       "4      76.0    0.0  2.0      4.0  \n",
       "\n",
       "[5 rows x 82 columns]"
      ]
     },
     "execution_count": 22,
     "metadata": {},
     "output_type": "execute_result"
    }
   ],
   "source": [
    "cleanedDF.head()"
   ]
  },
  {
   "cell_type": "code",
   "execution_count": 23,
   "id": "4dd28a55",
   "metadata": {
    "execution": {
     "iopub.execute_input": "2024-01-21T20:48:46.972133Z",
     "iopub.status.busy": "2024-01-21T20:48:46.971865Z",
     "iopub.status.idle": "2024-01-21T20:48:47.095464Z",
     "shell.execute_reply": "2024-01-21T20:48:47.094388Z"
    },
    "papermill": {
     "duration": 0.149505,
     "end_time": "2024-01-21T20:48:47.097949",
     "exception": false,
     "start_time": "2024-01-21T20:48:46.948444",
     "status": "completed"
    },
    "tags": []
   },
   "outputs": [],
   "source": [
    "X = cleanedDF.drop(['Label'], axis=1)\n",
    "y = cleanedDF['Label']"
   ]
  },
  {
   "cell_type": "code",
   "execution_count": 24,
   "id": "501e086d",
   "metadata": {
    "execution": {
     "iopub.execute_input": "2024-01-21T20:48:47.146225Z",
     "iopub.status.busy": "2024-01-21T20:48:47.145882Z",
     "iopub.status.idle": "2024-01-21T20:48:47.579035Z",
     "shell.execute_reply": "2024-01-21T20:48:47.577990Z"
    },
    "papermill": {
     "duration": 0.459928,
     "end_time": "2024-01-21T20:48:47.581458",
     "exception": false,
     "start_time": "2024-01-21T20:48:47.121530",
     "status": "completed"
    },
    "tags": []
   },
   "outputs": [],
   "source": [
    "from sklearn.model_selection import train_test_split\n",
    "\n",
    "X_train, X_test, y_train, y_test = train_test_split(X, y, test_size=0.3, random_state=0)\n"
   ]
  },
  {
   "cell_type": "markdown",
   "id": "8426493d",
   "metadata": {
    "papermill": {
     "duration": 0.021217,
     "end_time": "2024-01-21T20:48:47.625838",
     "exception": false,
     "start_time": "2024-01-21T20:48:47.604621",
     "status": "completed"
    },
    "tags": []
   },
   "source": [
    "# All the Feature Selections Methods "
   ]
  },
  {
   "cell_type": "code",
   "execution_count": 25,
   "id": "a8555861",
   "metadata": {
    "execution": {
     "iopub.execute_input": "2024-01-21T20:48:47.670042Z",
     "iopub.status.busy": "2024-01-21T20:48:47.669677Z",
     "iopub.status.idle": "2024-01-21T20:48:48.686492Z",
     "shell.execute_reply": "2024-01-21T20:48:48.685384Z"
    },
    "papermill": {
     "duration": 1.041272,
     "end_time": "2024-01-21T20:48:48.688592",
     "exception": false,
     "start_time": "2024-01-21T20:48:47.647320",
     "status": "completed"
    },
    "tags": []
   },
   "outputs": [
    {
     "name": "stdout",
     "output_type": "stream",
     "text": [
      "Selected features: ['Dst_Port', 'Fwd_Pkt_Len_Std', 'ACK_Flag_Cnt', 'Cat', 'Sub_Cat']\n"
     ]
    }
   ],
   "source": [
    "import pandas as pd\n",
    "from sklearn.feature_selection import SelectKBest, f_classif\n",
    "\n",
    "# Load your IoT dataset into a pandas DataFrame\n",
    "# Assuming your dataset is stored in a variable called 'iot_data'\n",
    "# Replace 'target_column' with the name of the target variable column in your dataset\n",
    "# Replace the column names with the actual feature names in your dataset\n",
    "\n",
    "# Select the top 5 features based on the ANOVA F-test\n",
    "selector = SelectKBest(score_func=f_classif, k=5)\n",
    "X_new = selector.fit_transform(X, y)\n",
    "\n",
    "# Get the selected feature names\n",
    "selected_features = X.columns[selector.get_support(indices=True)].tolist()\n",
    "\n",
    "# Print the selected feature names\n",
    "print(\"Selected features:\", selected_features)\n"
   ]
  },
  {
   "cell_type": "markdown",
   "id": "ec490056",
   "metadata": {
    "papermill": {
     "duration": 0.021749,
     "end_time": "2024-01-21T20:48:48.732811",
     "exception": false,
     "start_time": "2024-01-21T20:48:48.711062",
     "status": "completed"
    },
    "tags": []
   },
   "source": [
    "Feature selection is an important step in working with IoT datasets as it can help reduce the dimensionality of the data and improve the performance of machine learning models. Here are some common techniques for feature selection in IoT datasets:\n",
    "\n",
    "1. Univariate feature selection: This method selects the best features based on univariate statistical tests such as chi-squared test, ANOVA F-test, or mutual information. Scikit-learn library in Python provides functions like SelectKBest and SelectPercentile for univariate feature selection.\n",
    "\n",
    "2. Recursive feature elimination (RFE): RFE is a wrapper method that recursively removes the least important features and builds a model until the desired number of features is reached. This is available in scikit-learn's RFE class.\n",
    "\n",
    "3. Lasso regularization: Lasso regularization (L1 regularization) can be used to penalize the absolute size of the regression coefficients, effectively performing feature selection by shrinking some coefficients to zero. This technique is commonly used in linear models.\n",
    "\n",
    "4. Tree-based feature selection: Decision tree-based algorithms such as Random Forest or Gradient Boosting Machines can be used to rank the importance of features. You can then select the most important features based on their importance scores.\n",
    "\n",
    "5. Principal Component Analysis (PCA): PCA is a dimensionality reduction technique that can also be used for feature selection by selecting the most important principal components that capture the most variance in the data.\n",
    "\n",
    "When working with IoT datasets, it's important to consider the specific characteristics of the data and the goals of your analysis when selecting features. It's often a good idea to experiment with different feature selection methods and evaluate their impact on the performance of your machine learning models."
   ]
  },
  {
   "cell_type": "markdown",
   "id": "ee1045eb",
   "metadata": {
    "papermill": {
     "duration": 0.021598,
     "end_time": "2024-01-21T20:48:48.776164",
     "exception": false,
     "start_time": "2024-01-21T20:48:48.754566",
     "status": "completed"
    },
    "tags": []
   },
   "source": [
    "## The Start of AutoEncoder Models"
   ]
  },
  {
   "cell_type": "code",
   "execution_count": 26,
   "id": "493f2714",
   "metadata": {
    "execution": {
     "iopub.execute_input": "2024-01-21T20:48:48.823672Z",
     "iopub.status.busy": "2024-01-21T20:48:48.823323Z",
     "iopub.status.idle": "2024-01-21T20:48:48.876791Z",
     "shell.execute_reply": "2024-01-21T20:48:48.875789Z"
    },
    "papermill": {
     "duration": 0.080152,
     "end_time": "2024-01-21T20:48:48.879143",
     "exception": false,
     "start_time": "2024-01-21T20:48:48.798991",
     "status": "completed"
    },
    "tags": []
   },
   "outputs": [],
   "source": [
    "x_scaled = MinMaxScaler().fit_transform(X_new)\n",
    "x_normal_scaled = x_scaled[y==0]\n",
    "x_fraud_scaled = x_scaled[y==1]\n"
   ]
  },
  {
   "cell_type": "code",
   "execution_count": 27,
   "id": "e92dc95e",
   "metadata": {
    "execution": {
     "iopub.execute_input": "2024-01-21T20:48:48.929110Z",
     "iopub.status.busy": "2024-01-21T20:48:48.928740Z",
     "iopub.status.idle": "2024-01-21T20:48:49.011424Z",
     "shell.execute_reply": "2024-01-21T20:48:49.010393Z"
    },
    "papermill": {
     "duration": 0.110254,
     "end_time": "2024-01-21T20:48:49.014021",
     "exception": false,
     "start_time": "2024-01-21T20:48:48.903767",
     "status": "completed"
    },
    "tags": []
   },
   "outputs": [],
   "source": [
    "from sklearn.model_selection import train_test_split\n",
    "\n",
    "X_train_1, X_test_1, y_train_1, y_test_1 = train_test_split(X_new, y, test_size=0.3, random_state=0)"
   ]
  },
  {
   "cell_type": "code",
   "execution_count": 28,
   "id": "c5f52ddd",
   "metadata": {
    "execution": {
     "iopub.execute_input": "2024-01-21T20:48:49.061244Z",
     "iopub.status.busy": "2024-01-21T20:48:49.060918Z",
     "iopub.status.idle": "2024-01-21T20:48:49.065813Z",
     "shell.execute_reply": "2024-01-21T20:48:49.064930Z"
    },
    "papermill": {
     "duration": 0.03005,
     "end_time": "2024-01-21T20:48:49.067721",
     "exception": false,
     "start_time": "2024-01-21T20:48:49.037671",
     "status": "completed"
    },
    "tags": []
   },
   "outputs": [],
   "source": [
    "import pandas as pd\n",
    "import numpy as np\n",
    "from sklearn.feature_selection import SelectKBest, f_classif\n",
    "from tensorflow.keras.layers import Input, Dense\n",
    "from tensorflow.keras.models import Model\n",
    "from tensorflow.keras import regularizers"
   ]
  },
  {
   "cell_type": "code",
   "execution_count": 29,
   "id": "403f8205",
   "metadata": {
    "execution": {
     "iopub.execute_input": "2024-01-21T20:48:49.113414Z",
     "iopub.status.busy": "2024-01-21T20:48:49.113139Z",
     "iopub.status.idle": "2024-01-21T20:51:47.519898Z",
     "shell.execute_reply": "2024-01-21T20:51:47.519024Z"
    },
    "papermill": {
     "duration": 178.43269,
     "end_time": "2024-01-21T20:51:47.522292",
     "exception": false,
     "start_time": "2024-01-21T20:48:49.089602",
     "status": "completed"
    },
    "tags": []
   },
   "outputs": [
    {
     "name": "stdout",
     "output_type": "stream",
     "text": [
      "Epoch 1/5\n",
      "13681/13681 [==============================] - 36s 2ms/step - loss: 115511688.0000\n",
      "Epoch 2/5\n",
      "13681/13681 [==============================] - 33s 2ms/step - loss: 115512120.0000\n",
      "Epoch 3/5\n",
      "13681/13681 [==============================] - 33s 2ms/step - loss: 115511904.0000\n",
      "Epoch 4/5\n",
      "13681/13681 [==============================] - 33s 2ms/step - loss: 115511632.0000\n",
      "Epoch 5/5\n",
      "13681/13681 [==============================] - 33s 2ms/step - loss: 115511632.0000\n",
      "5864/5864 [==============================] - 6s 1ms/step\n"
     ]
    }
   ],
   "source": [
    "# Define the input layer\n",
    "input_layer = Input(shape=(X_train_1.shape[1],))\n",
    "\n",
    "# Define the encoder layer\n",
    "encoded_layer = Dense(3, activation='relu')(input_layer)\n",
    "\n",
    "# Define the decoder layer\n",
    "decoded_layer = Dense(X_train_1.shape[1], activation='sigmoid')(encoded_layer)\n",
    "\n",
    "# Define the autoencoder model\n",
    "autoencoder = Model(input_layer, decoded_layer)\n",
    "\n",
    "# Compile the model\n",
    "autoencoder.compile(optimizer='adam', loss='mean_squared_error')\n",
    "\n",
    "# Train the model\n",
    "autoencoder.fit(X_train_1, X_train_1, epochs=5, batch_size=32)\n",
    "\n",
    "# Use the encoder layer to transform the input data into a lower-dimensional representation\n",
    "encoder = Model(input_layer, encoded_layer)\n",
    "\n",
    "X_encoded = encoder.predict(X_test_1)"
   ]
  },
  {
   "cell_type": "code",
   "execution_count": 30,
   "id": "4d518b77",
   "metadata": {
    "execution": {
     "iopub.execute_input": "2024-01-21T20:51:48.092862Z",
     "iopub.status.busy": "2024-01-21T20:51:48.092115Z",
     "iopub.status.idle": "2024-01-21T20:51:48.097495Z",
     "shell.execute_reply": "2024-01-21T20:51:48.096727Z"
    },
    "papermill": {
     "duration": 0.293827,
     "end_time": "2024-01-21T20:51:48.099388",
     "exception": false,
     "start_time": "2024-01-21T20:51:47.805561",
     "status": "completed"
    },
    "tags": []
   },
   "outputs": [],
   "source": [
    "import numpy as np\n",
    "from keras.models import Model\n",
    "from keras.layers import Input, Dense\n",
    "from sklearn.metrics import mean_squared_error, mean_absolute_error\n",
    "from scipy.spatial import distance\n",
    "from sklearn.metrics import r2_score"
   ]
  },
  {
   "cell_type": "code",
   "execution_count": 31,
   "id": "c1172766",
   "metadata": {
    "execution": {
     "iopub.execute_input": "2024-01-21T20:51:48.714580Z",
     "iopub.status.busy": "2024-01-21T20:51:48.713845Z",
     "iopub.status.idle": "2024-01-21T20:51:48.719343Z",
     "shell.execute_reply": "2024-01-21T20:51:48.718215Z"
    },
    "papermill": {
     "duration": 0.336633,
     "end_time": "2024-01-21T20:51:48.721317",
     "exception": false,
     "start_time": "2024-01-21T20:51:48.384684",
     "status": "completed"
    },
    "tags": []
   },
   "outputs": [
    {
     "name": "stdout",
     "output_type": "stream",
     "text": [
      "(187625, 3)\n",
      "(187625, 5)\n"
     ]
    }
   ],
   "source": [
    "print(X_encoded.shape)\n",
    "print(X_test_1.shape)"
   ]
  },
  {
   "cell_type": "code",
   "execution_count": 32,
   "id": "9fa2a3cd",
   "metadata": {
    "execution": {
     "iopub.execute_input": "2024-01-21T20:51:49.295041Z",
     "iopub.status.busy": "2024-01-21T20:51:49.294215Z",
     "iopub.status.idle": "2024-01-21T20:51:49.299201Z",
     "shell.execute_reply": "2024-01-21T20:51:49.298268Z"
    },
    "papermill": {
     "duration": 0.294059,
     "end_time": "2024-01-21T20:51:49.301361",
     "exception": false,
     "start_time": "2024-01-21T20:51:49.007302",
     "status": "completed"
    },
    "tags": []
   },
   "outputs": [
    {
     "name": "stdout",
     "output_type": "stream",
     "text": [
      "(187625, 3)\n"
     ]
    }
   ],
   "source": [
    "y_pred_reshaped = X_test_1[:, :3]\n",
    "print(y_pred_reshaped.shape)"
   ]
  },
  {
   "cell_type": "code",
   "execution_count": 33,
   "id": "430c7b44",
   "metadata": {
    "execution": {
     "iopub.execute_input": "2024-01-21T20:51:49.866508Z",
     "iopub.status.busy": "2024-01-21T20:51:49.866144Z",
     "iopub.status.idle": "2024-01-21T20:51:49.885002Z",
     "shell.execute_reply": "2024-01-21T20:51:49.883993Z"
    },
    "papermill": {
     "duration": 0.302836,
     "end_time": "2024-01-21T20:51:49.886955",
     "exception": false,
     "start_time": "2024-01-21T20:51:49.584119",
     "status": "completed"
    },
    "tags": []
   },
   "outputs": [
    {
     "name": "stdout",
     "output_type": "stream",
     "text": [
      "Mean Squared Error (MSE): 448845194.4736574\n"
     ]
    }
   ],
   "source": [
    "mse = mean_squared_error(y_pred_reshaped, X_encoded)\n",
    "print(\"Mean Squared Error (MSE):\", mse)"
   ]
  },
  {
   "cell_type": "code",
   "execution_count": 34,
   "id": "2034fffe",
   "metadata": {
    "execution": {
     "iopub.execute_input": "2024-01-21T20:51:50.458398Z",
     "iopub.status.busy": "2024-01-21T20:51:50.457592Z",
     "iopub.status.idle": "2024-01-21T20:51:50.462568Z",
     "shell.execute_reply": "2024-01-21T20:51:50.461778Z"
    },
    "papermill": {
     "duration": 0.291753,
     "end_time": "2024-01-21T20:51:50.464663",
     "exception": false,
     "start_time": "2024-01-21T20:51:50.172910",
     "status": "completed"
    },
    "tags": []
   },
   "outputs": [
    {
     "name": "stdout",
     "output_type": "stream",
     "text": [
      "Root Mean Squared Error (RMSE): 21185.9669232645\n"
     ]
    }
   ],
   "source": [
    "rmse = np.sqrt(mse)\n",
    "print(\"Root Mean Squared Error (RMSE):\", rmse)"
   ]
  },
  {
   "cell_type": "code",
   "execution_count": 35,
   "id": "e8fb55ca",
   "metadata": {
    "execution": {
     "iopub.execute_input": "2024-01-21T20:51:51.036537Z",
     "iopub.status.busy": "2024-01-21T20:51:51.036179Z",
     "iopub.status.idle": "2024-01-21T20:51:51.055589Z",
     "shell.execute_reply": "2024-01-21T20:51:51.054610Z"
    },
    "papermill": {
     "duration": 0.308932,
     "end_time": "2024-01-21T20:51:51.057737",
     "exception": false,
     "start_time": "2024-01-21T20:51:50.748805",
     "status": "completed"
    },
    "tags": []
   },
   "outputs": [
    {
     "name": "stdout",
     "output_type": "stream",
     "text": [
      "Mean Absolute Error (MAE): 13236.083792611926\n"
     ]
    }
   ],
   "source": [
    "mae = mean_absolute_error(y_pred_reshaped, X_encoded)\n",
    "print(\"Mean Absolute Error (MAE):\", mae)"
   ]
  },
  {
   "cell_type": "code",
   "execution_count": 36,
   "id": "e323451c",
   "metadata": {
    "execution": {
     "iopub.execute_input": "2024-01-21T20:51:51.684586Z",
     "iopub.status.busy": "2024-01-21T20:51:51.683946Z",
     "iopub.status.idle": "2024-01-21T20:52:02.242183Z",
     "shell.execute_reply": "2024-01-21T20:52:02.241271Z"
    },
    "papermill": {
     "duration": 10.897147,
     "end_time": "2024-01-21T20:52:02.244340",
     "exception": false,
     "start_time": "2024-01-21T20:51:51.347193",
     "status": "completed"
    },
    "tags": []
   },
   "outputs": [
    {
     "name": "stdout",
     "output_type": "stream",
     "text": [
      "Average Cosine Similarity: 0.012376641688448684\n"
     ]
    }
   ],
   "source": [
    "cosine_similarities = [1 - distance.cosine(y_pred_reshaped[i], X_encoded[i]) for i in range(len(y_pred_reshaped))]\n",
    "average_cosine_similarity = np.mean(cosine_similarities)\n",
    "print(\"Average Cosine Similarity:\", average_cosine_similarity)"
   ]
  },
  {
   "cell_type": "code",
   "execution_count": 37,
   "id": "69c83cb7",
   "metadata": {
    "execution": {
     "iopub.execute_input": "2024-01-21T20:52:02.814857Z",
     "iopub.status.busy": "2024-01-21T20:52:02.814476Z",
     "iopub.status.idle": "2024-01-21T20:52:02.844519Z",
     "shell.execute_reply": "2024-01-21T20:52:02.843493Z"
    },
    "papermill": {
     "duration": 0.317762,
     "end_time": "2024-01-21T20:52:02.846443",
     "exception": false,
     "start_time": "2024-01-21T20:52:02.528681",
     "status": "completed"
    },
    "tags": []
   },
   "outputs": [
    {
     "name": "stdout",
     "output_type": "stream",
     "text": [
      "R-squared (coefficient of determination): -73937753.2912723\n"
     ]
    }
   ],
   "source": [
    "# Calculate the R-squared (coefficient of determination)\n",
    "r_squared = r2_score(y_pred_reshaped, X_encoded)\n",
    "print(\"R-squared (coefficient of determination):\", r_squared)"
   ]
  },
  {
   "cell_type": "markdown",
   "id": "14079b7b",
   "metadata": {
    "papermill": {
     "duration": 0.29036,
     "end_time": "2024-01-21T20:52:03.420957",
     "exception": false,
     "start_time": "2024-01-21T20:52:03.130597",
     "status": "completed"
    },
    "tags": []
   },
   "source": [
    "# Stacked autoencoder "
   ]
  },
  {
   "cell_type": "code",
   "execution_count": 38,
   "id": "04d419a0",
   "metadata": {
    "execution": {
     "iopub.execute_input": "2024-01-21T20:52:03.991318Z",
     "iopub.status.busy": "2024-01-21T20:52:03.990655Z",
     "iopub.status.idle": "2024-01-21T20:58:16.329388Z",
     "shell.execute_reply": "2024-01-21T20:58:16.328390Z"
    },
    "papermill": {
     "duration": 372.627143,
     "end_time": "2024-01-21T20:58:16.331499",
     "exception": false,
     "start_time": "2024-01-21T20:52:03.704356",
     "status": "completed"
    },
    "tags": []
   },
   "outputs": [
    {
     "name": "stdout",
     "output_type": "stream",
     "text": [
      "Epoch 1/5\n",
      "13681/13681 [==============================] - 76s 5ms/step - loss: 115559472.0000\n",
      "Epoch 2/5\n",
      "13681/13681 [==============================] - 72s 5ms/step - loss: 115511584.0000\n",
      "Epoch 3/5\n",
      "13681/13681 [==============================] - 72s 5ms/step - loss: 115511640.0000\n",
      "Epoch 4/5\n",
      "13681/13681 [==============================] - 71s 5ms/step - loss: 115511720.0000\n",
      "Epoch 5/5\n",
      "13681/13681 [==============================] - 71s 5ms/step - loss: 115511608.0000\n",
      "5864/5864 [==============================] - 8s 1ms/step\n",
      "Encoded data shape: (187625, 1)\n"
     ]
    }
   ],
   "source": [
    "\n",
    "\n",
    "# Define the input layer\n",
    "input_layer = Input(shape=(X_train_1.shape[1],))\n",
    "\n",
    "# Define the encoder layers with L2 regularization\n",
    "encoded_layer1 = Dense(16, activation='relu', activity_regularizer=regularizers.l2(0.01))(input_layer)\n",
    "encoded_layer2 = Dense(8, activation='relu', activity_regularizer=regularizers.l2(0.01))(encoded_layer1)\n",
    "encoded_layer3 = Dense(4, activation='relu', activity_regularizer=regularizers.l2(0.01))(encoded_layer2)\n",
    "encoded_layer4 = Dense(2, activation='relu', activity_regularizer=regularizers.l2(0.01))(encoded_layer3)\n",
    "encoded_layer5 = Dense(1, activation='relu', activity_regularizer=regularizers.l2(0.01))(encoded_layer4)\n",
    "\n",
    "# Define the decoder layers with L2 regularization\n",
    "decoded_layer1 = Dense(2, activation='relu', activity_regularizer=regularizers.l2(0.01))(encoded_layer5)\n",
    "decoded_layer2 = Dense(4, activation='relu', activity_regularizer=regularizers.l2(0.01))(decoded_layer1)\n",
    "decoded_layer3 = Dense(8, activation='relu', activity_regularizer=regularizers.l2(0.01))(decoded_layer2)\n",
    "decoded_layer4 = Dense(16, activation='relu', activity_regularizer=regularizers.l2(0.01))(decoded_layer3)\n",
    "decoded_layer5 = Dense(X_train_1.shape[1], activation='sigmoid', activity_regularizer=regularizers.l2(0.01))(decoded_layer4)\n",
    "\n",
    "# Define the autoencoder model\n",
    "autoencoder = Model(input_layer, decoded_layer5)\n",
    "\n",
    "# Compile the model\n",
    "autoencoder.compile(optimizer='adam', loss='mean_squared_error')\n",
    "\n",
    "# Train the model\n",
    "autoencoder.fit(X_train_1, X_train_1, epochs=5, batch_size=32)\n",
    "\n",
    "# Use the encoder layers to transform the input data into a lower-dimensional representation\n",
    "encoder = Model(input_layer, encoded_layer5)\n",
    "\n",
    "X_encoded_1 = encoder.predict(X_test_1)\n",
    "\n",
    "# Print the shape of the encoded data\n",
    "print(\"Encoded data shape:\", X_encoded_1.shape)"
   ]
  },
  {
   "cell_type": "code",
   "execution_count": 39,
   "id": "7d1d202f",
   "metadata": {
    "execution": {
     "iopub.execute_input": "2024-01-21T20:58:18.078270Z",
     "iopub.status.busy": "2024-01-21T20:58:18.077254Z",
     "iopub.status.idle": "2024-01-21T20:58:18.082754Z",
     "shell.execute_reply": "2024-01-21T20:58:18.081764Z"
    },
    "papermill": {
     "duration": 0.854746,
     "end_time": "2024-01-21T20:58:18.084760",
     "exception": false,
     "start_time": "2024-01-21T20:58:17.230014",
     "status": "completed"
    },
    "tags": []
   },
   "outputs": [
    {
     "name": "stdout",
     "output_type": "stream",
     "text": [
      "(187625, 1)\n"
     ]
    }
   ],
   "source": [
    "x_reshaped = X_test_1[:, :1]\n",
    "print(x_reshaped.shape)"
   ]
  },
  {
   "cell_type": "code",
   "execution_count": 40,
   "id": "617f37db",
   "metadata": {
    "execution": {
     "iopub.execute_input": "2024-01-21T20:58:19.812826Z",
     "iopub.status.busy": "2024-01-21T20:58:19.812446Z",
     "iopub.status.idle": "2024-01-21T20:58:19.821071Z",
     "shell.execute_reply": "2024-01-21T20:58:19.820157Z"
    },
    "papermill": {
     "duration": 0.846488,
     "end_time": "2024-01-21T20:58:19.823080",
     "exception": false,
     "start_time": "2024-01-21T20:58:18.976592",
     "status": "completed"
    },
    "tags": []
   },
   "outputs": [
    {
     "name": "stdout",
     "output_type": "stream",
     "text": [
      "Mean Squared Error (MSE): 448845194.4736574\n"
     ]
    }
   ],
   "source": [
    "mse_1 = mean_squared_error(x_reshaped, X_encoded_1)\n",
    "print(\"Mean Squared Error (MSE):\", mse)"
   ]
  },
  {
   "cell_type": "code",
   "execution_count": 41,
   "id": "700b5605",
   "metadata": {
    "execution": {
     "iopub.execute_input": "2024-01-21T20:58:21.563229Z",
     "iopub.status.busy": "2024-01-21T20:58:21.562388Z",
     "iopub.status.idle": "2024-01-21T20:58:21.567541Z",
     "shell.execute_reply": "2024-01-21T20:58:21.566632Z"
    },
    "papermill": {
     "duration": 0.902551,
     "end_time": "2024-01-21T20:58:21.569600",
     "exception": false,
     "start_time": "2024-01-21T20:58:20.667049",
     "status": "completed"
    },
    "tags": []
   },
   "outputs": [
    {
     "name": "stdout",
     "output_type": "stream",
     "text": [
      "Root Mean Squared Error (RMSE): 23982.145027407318\n"
     ]
    }
   ],
   "source": [
    "rmse = np.sqrt(mse_1)\n",
    "print(\"Root Mean Squared Error (RMSE):\", rmse)"
   ]
  },
  {
   "cell_type": "code",
   "execution_count": 42,
   "id": "6bc7a35e",
   "metadata": {
    "execution": {
     "iopub.execute_input": "2024-01-21T20:58:23.294680Z",
     "iopub.status.busy": "2024-01-21T20:58:23.294347Z",
     "iopub.status.idle": "2024-01-21T20:58:23.301596Z",
     "shell.execute_reply": "2024-01-21T20:58:23.300502Z"
    },
    "papermill": {
     "duration": 0.896404,
     "end_time": "2024-01-21T20:58:23.303503",
     "exception": false,
     "start_time": "2024-01-21T20:58:22.407099",
     "status": "completed"
    },
    "tags": []
   },
   "outputs": [
    {
     "name": "stdout",
     "output_type": "stream",
     "text": [
      "Mean Absolute Error (MAE): 16363.811437708195\n"
     ]
    }
   ],
   "source": [
    "mae = mean_absolute_error(x_reshaped, X_encoded_1)\n",
    "print(\"Mean Absolute Error (MAE):\", mae)"
   ]
  },
  {
   "cell_type": "code",
   "execution_count": 43,
   "id": "bd67a876",
   "metadata": {
    "execution": {
     "iopub.execute_input": "2024-01-21T20:58:25.073582Z",
     "iopub.status.busy": "2024-01-21T20:58:25.072737Z",
     "iopub.status.idle": "2024-01-21T20:58:36.584134Z",
     "shell.execute_reply": "2024-01-21T20:58:36.583262Z"
    },
    "papermill": {
     "duration": 12.432006,
     "end_time": "2024-01-21T20:58:36.586169",
     "exception": false,
     "start_time": "2024-01-21T20:58:24.154163",
     "status": "completed"
    },
    "tags": []
   },
   "outputs": [
    {
     "name": "stdout",
     "output_type": "stream",
     "text": [
      "Average Cosine Similarity: 1.0\n"
     ]
    }
   ],
   "source": [
    "cosine_similarities = [1 - distance.cosine(x_reshaped[i], X_encoded_1[i]) for i in range(len(y_pred_reshaped))]\n",
    "average_cosine_similarity = np.mean(cosine_similarities)\n",
    "print(\"Average Cosine Similarity:\", average_cosine_similarity)"
   ]
  },
  {
   "cell_type": "code",
   "execution_count": 44,
   "id": "79eaca7b",
   "metadata": {
    "execution": {
     "iopub.execute_input": "2024-01-21T20:58:38.261530Z",
     "iopub.status.busy": "2024-01-21T20:58:38.260599Z",
     "iopub.status.idle": "2024-01-21T20:58:38.269309Z",
     "shell.execute_reply": "2024-01-21T20:58:38.268268Z"
    },
    "papermill": {
     "duration": 0.847664,
     "end_time": "2024-01-21T20:58:38.271369",
     "exception": false,
     "start_time": "2024-01-21T20:58:37.423705",
     "status": "completed"
    },
    "tags": []
   },
   "outputs": [
    {
     "name": "stdout",
     "output_type": "stream",
     "text": [
      "R-squared (coefficient of determination): -0.8711820764943756\n"
     ]
    }
   ],
   "source": [
    "# Calculate the R-squared (coefficient of determination)\n",
    "r_squared = r2_score(x_reshaped, X_encoded_1)\n",
    "print(\"R-squared (coefficient of determination):\", r_squared)"
   ]
  },
  {
   "cell_type": "markdown",
   "id": "097550a2",
   "metadata": {
    "papermill": {
     "duration": 0.882174,
     "end_time": "2024-01-21T20:58:40.045609",
     "exception": false,
     "start_time": "2024-01-21T20:58:39.163435",
     "status": "completed"
    },
    "tags": []
   },
   "source": [
    "## LSTM auto encoder "
   ]
  },
  {
   "cell_type": "code",
   "execution_count": 45,
   "id": "c6d9be46",
   "metadata": {
    "execution": {
     "iopub.execute_input": "2024-01-21T20:58:41.777721Z",
     "iopub.status.busy": "2024-01-21T20:58:41.777358Z",
     "iopub.status.idle": "2024-01-21T20:58:43.104485Z",
     "shell.execute_reply": "2024-01-21T20:58:43.103014Z"
    },
    "papermill": {
     "duration": 2.170379,
     "end_time": "2024-01-21T20:58:43.105960",
     "exception": true,
     "start_time": "2024-01-21T20:58:40.935581",
     "status": "failed"
    },
    "tags": []
   },
   "outputs": [
    {
     "ename": "ValueError",
     "evalue": "Input 0 of layer \"lstm\" is incompatible with the layer: expected ndim=3, found ndim=2. Full shape received: (None, 81)",
     "output_type": "error",
     "traceback": [
      "\u001b[0;31m---------------------------------------------------------------------------\u001b[0m",
      "\u001b[0;31mValueError\u001b[0m                                Traceback (most recent call last)",
      "Cell \u001b[0;32mIn[45], line 23\u001b[0m\n\u001b[1;32m     20\u001b[0m input_layer \u001b[38;5;241m=\u001b[39m Input(shape\u001b[38;5;241m=\u001b[39m(X_train\u001b[38;5;241m.\u001b[39mshape[\u001b[38;5;241m1\u001b[39m],))\n\u001b[1;32m     22\u001b[0m \u001b[38;5;66;03m# Define the stacked encoder LSTM layers with dropout and L2 regularization\u001b[39;00m\n\u001b[0;32m---> 23\u001b[0m encoded \u001b[38;5;241m=\u001b[39m \u001b[43mLSTM\u001b[49m\u001b[43m(\u001b[49m\u001b[38;5;241;43m16\u001b[39;49m\u001b[43m,\u001b[49m\u001b[43m \u001b[49m\u001b[43mactivation\u001b[49m\u001b[38;5;241;43m=\u001b[39;49m\u001b[38;5;124;43m'\u001b[39;49m\u001b[38;5;124;43mrelu\u001b[39;49m\u001b[38;5;124;43m'\u001b[39;49m\u001b[43m,\u001b[49m\u001b[43m \u001b[49m\u001b[43mkernel_regularizer\u001b[49m\u001b[38;5;241;43m=\u001b[39;49m\u001b[43mregularizers\u001b[49m\u001b[38;5;241;43m.\u001b[39;49m\u001b[43ml2\u001b[49m\u001b[43m(\u001b[49m\u001b[38;5;241;43m0.01\u001b[39;49m\u001b[43m)\u001b[49m\u001b[43m,\u001b[49m\u001b[43m \u001b[49m\u001b[43mreturn_sequences\u001b[49m\u001b[38;5;241;43m=\u001b[39;49m\u001b[38;5;28;43;01mTrue\u001b[39;49;00m\u001b[43m)\u001b[49m\u001b[43m(\u001b[49m\u001b[43minput_layer\u001b[49m\u001b[43m)\u001b[49m\n\u001b[1;32m     24\u001b[0m encoded \u001b[38;5;241m=\u001b[39m Dropout(\u001b[38;5;241m0.2\u001b[39m)(encoded)\n\u001b[1;32m     25\u001b[0m encoded \u001b[38;5;241m=\u001b[39m LSTM(\u001b[38;5;241m8\u001b[39m, activation\u001b[38;5;241m=\u001b[39m\u001b[38;5;124m'\u001b[39m\u001b[38;5;124mrelu\u001b[39m\u001b[38;5;124m'\u001b[39m, kernel_regularizer\u001b[38;5;241m=\u001b[39mregularizers\u001b[38;5;241m.\u001b[39ml2(\u001b[38;5;241m0.01\u001b[39m), return_sequences\u001b[38;5;241m=\u001b[39m\u001b[38;5;28;01mTrue\u001b[39;00m)(encoded)\n",
      "File \u001b[0;32m/opt/conda/lib/python3.10/site-packages/keras/src/layers/rnn/base_rnn.py:556\u001b[0m, in \u001b[0;36mRNN.__call__\u001b[0;34m(self, inputs, initial_state, constants, **kwargs)\u001b[0m\n\u001b[1;32m    551\u001b[0m inputs, initial_state, constants \u001b[38;5;241m=\u001b[39m rnn_utils\u001b[38;5;241m.\u001b[39mstandardize_args(\n\u001b[1;32m    552\u001b[0m     inputs, initial_state, constants, \u001b[38;5;28mself\u001b[39m\u001b[38;5;241m.\u001b[39m_num_constants\n\u001b[1;32m    553\u001b[0m )\n\u001b[1;32m    555\u001b[0m \u001b[38;5;28;01mif\u001b[39;00m initial_state \u001b[38;5;129;01mis\u001b[39;00m \u001b[38;5;28;01mNone\u001b[39;00m \u001b[38;5;129;01mand\u001b[39;00m constants \u001b[38;5;129;01mis\u001b[39;00m \u001b[38;5;28;01mNone\u001b[39;00m:\n\u001b[0;32m--> 556\u001b[0m     \u001b[38;5;28;01mreturn\u001b[39;00m \u001b[38;5;28;43msuper\u001b[39;49m\u001b[43m(\u001b[49m\u001b[43m)\u001b[49m\u001b[38;5;241;43m.\u001b[39;49m\u001b[38;5;21;43m__call__\u001b[39;49m\u001b[43m(\u001b[49m\u001b[43minputs\u001b[49m\u001b[43m,\u001b[49m\u001b[43m \u001b[49m\u001b[38;5;241;43m*\u001b[39;49m\u001b[38;5;241;43m*\u001b[39;49m\u001b[43mkwargs\u001b[49m\u001b[43m)\u001b[49m\n\u001b[1;32m    558\u001b[0m \u001b[38;5;66;03m# If any of `initial_state` or `constants` are specified and are Keras\u001b[39;00m\n\u001b[1;32m    559\u001b[0m \u001b[38;5;66;03m# tensors, then add them to the inputs and temporarily modify the\u001b[39;00m\n\u001b[1;32m    560\u001b[0m \u001b[38;5;66;03m# input_spec to include them.\u001b[39;00m\n\u001b[1;32m    562\u001b[0m additional_inputs \u001b[38;5;241m=\u001b[39m []\n",
      "File \u001b[0;32m/opt/conda/lib/python3.10/site-packages/keras/src/utils/traceback_utils.py:70\u001b[0m, in \u001b[0;36mfilter_traceback.<locals>.error_handler\u001b[0;34m(*args, **kwargs)\u001b[0m\n\u001b[1;32m     67\u001b[0m     filtered_tb \u001b[38;5;241m=\u001b[39m _process_traceback_frames(e\u001b[38;5;241m.\u001b[39m__traceback__)\n\u001b[1;32m     68\u001b[0m     \u001b[38;5;66;03m# To get the full stack trace, call:\u001b[39;00m\n\u001b[1;32m     69\u001b[0m     \u001b[38;5;66;03m# `tf.debugging.disable_traceback_filtering()`\u001b[39;00m\n\u001b[0;32m---> 70\u001b[0m     \u001b[38;5;28;01mraise\u001b[39;00m e\u001b[38;5;241m.\u001b[39mwith_traceback(filtered_tb) \u001b[38;5;28;01mfrom\u001b[39;00m \u001b[38;5;28;01mNone\u001b[39;00m\n\u001b[1;32m     71\u001b[0m \u001b[38;5;28;01mfinally\u001b[39;00m:\n\u001b[1;32m     72\u001b[0m     \u001b[38;5;28;01mdel\u001b[39;00m filtered_tb\n",
      "File \u001b[0;32m/opt/conda/lib/python3.10/site-packages/keras/src/engine/input_spec.py:235\u001b[0m, in \u001b[0;36massert_input_compatibility\u001b[0;34m(input_spec, inputs, layer_name)\u001b[0m\n\u001b[1;32m    233\u001b[0m     ndim \u001b[38;5;241m=\u001b[39m shape\u001b[38;5;241m.\u001b[39mrank\n\u001b[1;32m    234\u001b[0m     \u001b[38;5;28;01mif\u001b[39;00m ndim \u001b[38;5;241m!=\u001b[39m spec\u001b[38;5;241m.\u001b[39mndim:\n\u001b[0;32m--> 235\u001b[0m         \u001b[38;5;28;01mraise\u001b[39;00m \u001b[38;5;167;01mValueError\u001b[39;00m(\n\u001b[1;32m    236\u001b[0m             \u001b[38;5;124mf\u001b[39m\u001b[38;5;124m'\u001b[39m\u001b[38;5;124mInput \u001b[39m\u001b[38;5;132;01m{\u001b[39;00minput_index\u001b[38;5;132;01m}\u001b[39;00m\u001b[38;5;124m of layer \u001b[39m\u001b[38;5;124m\"\u001b[39m\u001b[38;5;132;01m{\u001b[39;00mlayer_name\u001b[38;5;132;01m}\u001b[39;00m\u001b[38;5;124m\"\u001b[39m\u001b[38;5;124m \u001b[39m\u001b[38;5;124m'\u001b[39m\n\u001b[1;32m    237\u001b[0m             \u001b[38;5;124m\"\u001b[39m\u001b[38;5;124mis incompatible with the layer: \u001b[39m\u001b[38;5;124m\"\u001b[39m\n\u001b[1;32m    238\u001b[0m             \u001b[38;5;124mf\u001b[39m\u001b[38;5;124m\"\u001b[39m\u001b[38;5;124mexpected ndim=\u001b[39m\u001b[38;5;132;01m{\u001b[39;00mspec\u001b[38;5;241m.\u001b[39mndim\u001b[38;5;132;01m}\u001b[39;00m\u001b[38;5;124m, found ndim=\u001b[39m\u001b[38;5;132;01m{\u001b[39;00mndim\u001b[38;5;132;01m}\u001b[39;00m\u001b[38;5;124m. \u001b[39m\u001b[38;5;124m\"\u001b[39m\n\u001b[1;32m    239\u001b[0m             \u001b[38;5;124mf\u001b[39m\u001b[38;5;124m\"\u001b[39m\u001b[38;5;124mFull shape received: \u001b[39m\u001b[38;5;132;01m{\u001b[39;00m\u001b[38;5;28mtuple\u001b[39m(shape)\u001b[38;5;132;01m}\u001b[39;00m\u001b[38;5;124m\"\u001b[39m\n\u001b[1;32m    240\u001b[0m         )\n\u001b[1;32m    241\u001b[0m \u001b[38;5;28;01mif\u001b[39;00m spec\u001b[38;5;241m.\u001b[39mmax_ndim \u001b[38;5;129;01mis\u001b[39;00m \u001b[38;5;129;01mnot\u001b[39;00m \u001b[38;5;28;01mNone\u001b[39;00m:\n\u001b[1;32m    242\u001b[0m     ndim \u001b[38;5;241m=\u001b[39m x\u001b[38;5;241m.\u001b[39mshape\u001b[38;5;241m.\u001b[39mrank\n",
      "\u001b[0;31mValueError\u001b[0m: Input 0 of layer \"lstm\" is incompatible with the layer: expected ndim=3, found ndim=2. Full shape received: (None, 81)"
     ]
    }
   ],
   "source": [
    "import pandas as pd\n",
    "import numpy as np\n",
    "from sklearn.feature_selection import SelectKBest, f_classif\n",
    "from tensorflow.keras.layers import Input, LSTM, RepeatVector, Dropout\n",
    "from tensorflow.keras.models import Model\n",
    "from tensorflow.keras import regularizers\n",
    "\n",
    "# Load your IoT dataset into a pandas DataFrame\n",
    "# Assuming your dataset is stored in a variable called 'iot_data'\n",
    "# Replace 'target_column' with the name of the target variable column in your dataset\n",
    "# Replace the column names with the actual feature names in your dataset\n",
    "# X = iot_data.drop(['target_column'], axis=1)  # Features\n",
    "# y = iot_data['target_column']  # Target variable\n",
    "\n",
    "# Select the top 5 features based on the ANOVA F-test\n",
    "# selector = SelectKBest(score_func=f_classif, k=5)\n",
    "# X_new = selector.fit_transform(X, y)\n",
    "\n",
    "# Define the input layer\n",
    "input_layer = Input(shape=(X_train.shape[1],))\n",
    "\n",
    "# Define the stacked encoder LSTM layers with dropout and L2 regularization\n",
    "encoded = LSTM(16, activation='relu', kernel_regularizer=regularizers.l2(0.01), return_sequences=True)(input_layer)\n",
    "encoded = Dropout(0.2)(encoded)\n",
    "encoded = LSTM(8, activation='relu', kernel_regularizer=regularizers.l2(0.01), return_sequences=True)(encoded)\n",
    "encoded = Dropout(0.2)(encoded)\n",
    "encoded = LSTM(4, activation='relu', kernel_regularizer=regularizers.l2(0.01))(encoded)\n",
    "\n",
    "# Define the stacked decoder LSTM layers with dropout and L2 regularization\n",
    "decoded = RepeatVector(X_train.shape[1])(encoded)\n",
    "decoded = LSTM(8, activation='relu', kernel_regularizer=regularizers.l2(0.01), return_sequences=True)(decoded)\n",
    "decoded = Dropout(0.2)(decoded)\n",
    "decoded = LSTM(16, activation='relu', kernel_regularizer=regularizers.l2(0.01), return_sequences=True)(decoded)\n",
    "decoded = Dropout(0.2)(decoded)\n",
    "decoded = LSTM(X_train.shape[1], activation='relu', kernel_regularizer=regularizers.l2(0.01), return_sequences=True)(decoded)\n",
    "\n",
    "# Define the autoencoder model\n",
    "autoencoder = Model(input_layer, decoded)\n",
    "\n",
    "# Compile the model\n",
    "autoencoder.compile(optimizer='adam', loss='mean_squared_error')\n",
    "\n",
    "# Train the model\n",
    "autoencoder.fit(X_train_1, X_train_1, epochs=50, batch_size=32)\n",
    "\n",
    "# Use the encoder layer to transform the input data into a lower-dimensional representation\n",
    "encoder = Model(input_layer, encoded)\n",
    "X_encoded_3 = encoder.predict(X_test_1)\n",
    "\n",
    "# Print the shape of the encoded data\n",
    "print(\"Encoded data shape:\", X_encoded_3.shape)"
   ]
  },
  {
   "cell_type": "markdown",
   "id": "b312dbe0",
   "metadata": {
    "papermill": {
     "duration": null,
     "end_time": null,
     "exception": null,
     "start_time": null,
     "status": "pending"
    },
    "tags": []
   },
   "source": [
    "# Deep Autoencoding Guassian Mixture Model"
   ]
  },
  {
   "cell_type": "code",
   "execution_count": null,
   "id": "2bd9639b",
   "metadata": {
    "execution": {
     "iopub.execute_input": "2024-01-21T18:22:46.564344Z",
     "iopub.status.busy": "2024-01-21T18:22:46.563963Z",
     "iopub.status.idle": "2024-01-21T19:08:24.650630Z",
     "shell.execute_reply": "2024-01-21T19:08:24.649080Z",
     "shell.execute_reply.started": "2024-01-21T18:22:46.564319Z"
    },
    "papermill": {
     "duration": null,
     "end_time": null,
     "exception": null,
     "start_time": null,
     "status": "pending"
    },
    "tags": []
   },
   "outputs": [],
   "source": [
    "import numpy as np\n",
    "import pandas as pd\n",
    "from sklearn.mixture import GaussianMixture\n",
    "from sklearn.preprocessing import StandardScaler\n",
    "from tensorflow.keras.layers import Input, Dense\n",
    "from tensorflow.keras.models import Model\n",
    "from tensorflow.keras import regularizers\n",
    "\n",
    "# Load your IoT dataset into a pandas DataFrame\n",
    "# Assuming your dataset is stored in a variable called 'iot_data'\n",
    "# Replace 'target_column' with the name of the target variable column in your dataset\n",
    "# Replace the column names with the actual feature names in your dataset\n",
    "# X = iot_data.drop(['target_column'], axis=1)  # Features\n",
    "# y = iot_data['target_column']  # Target variable\n",
    "\n",
    "# Standardize the input data\n",
    "#scaler = StandardScaler()\n",
    "#X_scaled = scaler.fit_transform(X)\n",
    "\n",
    "# Define the input layer\n",
    "input_layer = Input(shape=(X_train_1.shape[1],))\n",
    "\n",
    "# Define the deep autoencoder architecture\n",
    "encoded = Dense(64, activation='relu', kernel_regularizer=regularizers.l2(0.01))(input_layer)\n",
    "encoded = Dense(32, activation='relu', kernel_regularizer=regularizers.l2(0.01))(encoded)\n",
    "encoded = Dense(16, activation='relu', kernel_regularizer=regularizers.l2(0.01))(encoded)\n",
    "encoded = Dense(8, activation='relu', kernel_regularizer=regularizers.l2(0.01))(encoded)\n",
    "\n",
    "decoded = Dense(16, activation='relu', kernel_regularizer=regularizers.l2(0.01))(encoded)\n",
    "decoded = Dense(32, activation='relu', kernel_regularizer=regularizers.l2(0.01))(decoded)\n",
    "decoded = Dense(64, activation='relu', kernel_regularizer=regularizers.l2(0.01))(decoded)\n",
    "decoded = Dense(X_train_1.shape[1], activation='linear')(decoded)\n",
    "\n",
    "# Define the autoencoder model\n",
    "autoencoder = Model(input_layer, decoded)\n",
    "\n",
    "# Compile the model\n",
    "autoencoder.compile(optimizer='adam', loss='mean_squared_error')\n",
    "\n",
    "# Train the model\n",
    "autoencoder.fit(X_train_1, X_train_1, epochs=50, batch_size=32)\n",
    "\n",
    "# Use the encoder layer to transform the input data into a lower-dimensional representation\n",
    "encoder = Model(input_layer, encoded)\n",
    "X_encoded_4 = encoder.predict(X_test_1)\n",
    "\n",
    "# Fit a Gaussian Mixture Model to the encoded data\n",
    "gmm = GaussianMixture(n_components=3)  # Set the number of components as needed\n",
    "gmm.fit(X_encoded_4)\n",
    "\n",
    "# Predict the GMM component assignments for the encoded data\n",
    "component_assignments = gmm.predict(X_encoded_4)\n",
    "\n",
    "# Print the component assignments\n",
    "print(\"Component Assignments:\", component_assignments)"
   ]
  },
  {
   "cell_type": "code",
   "execution_count": null,
   "id": "c89e48ed",
   "metadata": {
    "papermill": {
     "duration": null,
     "end_time": null,
     "exception": null,
     "start_time": null,
     "status": "pending"
    },
    "tags": []
   },
   "outputs": [],
   "source": []
  },
  {
   "cell_type": "markdown",
   "id": "e4ee46da",
   "metadata": {
    "papermill": {
     "duration": null,
     "end_time": null,
     "exception": null,
     "start_time": null,
     "status": "pending"
    },
    "tags": []
   },
   "source": [
    "## Autoencoder with Deep Belief Classifier"
   ]
  },
  {
   "cell_type": "code",
   "execution_count": null,
   "id": "fa6d336c",
   "metadata": {
    "execution": {
     "iopub.execute_input": "2024-01-21T20:03:01.574942Z",
     "iopub.status.busy": "2024-01-21T20:03:01.574285Z"
    },
    "papermill": {
     "duration": null,
     "end_time": null,
     "exception": null,
     "start_time": null,
     "status": "pending"
    },
    "tags": []
   },
   "outputs": [],
   "source": [
    "import numpy as np\n",
    "import pandas as pd\n",
    "from sklearn.model_selection import train_test_split\n",
    "from sklearn.preprocessing import StandardScaler\n",
    "from sklearn.neural_network import BernoulliRBM\n",
    "from sklearn.pipeline import Pipeline\n",
    "from sklearn.linear_model import LogisticRegression\n",
    "from tensorflow.keras.layers import Input, Dense\n",
    "from tensorflow.keras.models import Model\n",
    "from tensorflow.keras import regularizers\n",
    "\n",
    "# Load your IoT dataset into a pandas DataFrame\n",
    "# Assuming your dataset is stored in a variable called 'iot_data'\n",
    "# Replace 'target_column' with the name of the target variable column in your dataset\n",
    "# Replace the column names with the actual feature names in your dataset\n",
    "# X = iot_data.drop(['target_column'], axis=1)  # Features\n",
    "# y = iot_data['target_column']  # Target variable\n",
    "\n",
    "# Standardize the input data\n",
    "# scaler = StandardScaler()\n",
    "#X_scaled = scaler.fit_transform(X)\n",
    "\n",
    "# Define the input layer\n",
    "input_layer = Input(shape=(X_train_1.shape[1],))\n",
    "\n",
    "# Define the deep autoencoder architecture\n",
    "encoded = Dense(64, activation='relu', kernel_regularizer=regularizers.l2(0.01))(input_layer)\n",
    "encoded = Dense(32, activation='relu', kernel_regularizer=regularizers.l2(0.01))(encoded)\n",
    "encoded = Dense(16, activation='relu', kernel_regularizer=regularizers.l2(0.01))(encoded)\n",
    "encoded = Dense(8, activation='relu', kernel_regularizer=regularizers.l2(0.01))(encoded)\n",
    "\n",
    "decoded = Dense(16, activation='relu', kernel_regularizer=regularizers.l2(0.01))(encoded)\n",
    "decoded = Dense(32, activation='relu', kernel_regularizer=regularizers.l2(0.01))(decoded)\n",
    "decoded = Dense(64, activation='relu', kernel_regularizer=regularizers.l2(0.01))(decoded)\n",
    "decoded = Dense(X_train_1.shape[1], activation='linear')(decoded)\n",
    "\n",
    "# Define the autoencoder model\n",
    "autoencoder = Model(input_layer, decoded)\n",
    "\n",
    "# Compile the model\n",
    "autoencoder.compile(optimizer='adam', loss='mean_squared_error')\n",
    "\n",
    "# Train the model\n",
    "autoencoder.fit(X_train_1, X_train_1, epochs=50, batch_size=32)\n",
    "\n",
    "# Use the encoder layer to transform the input data into a lower-dimensional representation\n",
    "encoder = Model(input_layer, encoded)\n",
    "X_encoded_5 = encoder.predict(X_test_1)\n",
    "\n",
    "# Define the Deep Belief Network (DBN) classifier\n",
    "rbm = BernoulliRBM(n_components=64, learning_rate=0.01, batch_size=10, n_iter=10, verbose=0, random_state=42)\n",
    "logistic = LogisticRegression(solver='newton-cg', tol=1, multi_class='auto')\n",
    "dbn_classifier = Pipeline(steps=[('rbm', rbm), ('logistic', logistic)])\n",
    "\n",
    "# Train the DBN classifier on the encoded data\n",
    "dbn_classifier.fit(X_encoded_5, X_encoded_5)\n",
    "\n",
    "# Make predictions using the DBN classifier\n",
    "predictions = dbn_classifier.predict(X_encoded_5)\n",
    "\n",
    "# Print the predictions\n",
    "print(\"DBN Classifier Predictions:\", predictions)"
   ]
  },
  {
   "cell_type": "markdown",
   "id": "8a314f8f",
   "metadata": {
    "papermill": {
     "duration": null,
     "end_time": null,
     "exception": null,
     "start_time": null,
     "status": "pending"
    },
    "tags": []
   },
   "source": [
    "# Adversarial autoencoder"
   ]
  },
  {
   "cell_type": "code",
   "execution_count": null,
   "id": "9cec0e9b",
   "metadata": {
    "execution": {
     "iopub.status.busy": "2024-01-21T17:21:41.760020Z",
     "iopub.status.idle": "2024-01-21T17:21:41.760449Z",
     "shell.execute_reply": "2024-01-21T17:21:41.760250Z",
     "shell.execute_reply.started": "2024-01-21T17:21:41.760228Z"
    },
    "papermill": {
     "duration": null,
     "end_time": null,
     "exception": null,
     "start_time": null,
     "status": "pending"
    },
    "tags": []
   },
   "outputs": [],
   "source": [
    "import numpy as np\n",
    "import pandas as pd\n",
    "from sklearn.model_selection import train_test_split\n",
    "from sklearn.preprocessing import StandardScaler\n",
    "from tensorflow.keras.layers import Input, Dense, Lambda, concatenate, Reshape\n",
    "from tensorflow.keras.models import Model\n",
    "from tensorflow.keras import regularizers\n",
    "from tensorflow.keras import backend as K\n",
    "from tensorflow.keras.optimizers import Adam\n",
    "\n",
    "# Load your IoT dataset into a pandas DataFrame\n",
    "# Assuming your dataset is stored in a variable called 'iot_data'\n",
    "# Replace 'target_column' with the name of the target variable column in your dataset\n",
    "# Replace the column names with the actual feature names in your dataset\n",
    "X = iot_data.drop(['target_column'], axis=1)  # Features\n",
    "y = iot_data['target_column']  # Target variable\n",
    "\n",
    "# Standardize the input data\n",
    "scaler = StandardScaler()\n",
    "X_scaled = scaler.fit_transform(X)\n",
    "\n",
    "# Define the input layer\n",
    "input_layer = Input(shape=(X_scaled.shape[1],))\n",
    "\n",
    "# Define the encoder architecture\n",
    "encoded = Dense(64, activation='relu', kernel_regularizer=regularizers.l2(0.01))(input_layer)\n",
    "encoded = Dense(32, activation='relu', kernel_regularizer=regularizers.l2(0.01))(encoded)\n",
    "encoded = Dense(16, activation='relu', kernel_regularizer=regularizers.l2(0.01))(encoded)\n",
    "encoded = Dense(8, activation='relu', kernel_regularizer=regularizers.l2(0.01))(encoded)\n",
    "\n",
    "# Define the decoder architecture\n",
    "decoded = Dense(16, activation='relu', kernel_regularizer=regularizers.l2(0.01))(encoded)\n",
    "decoded = Dense(32, activation='relu', kernel_regularizer=regularizers.l2(0.01))(decoded)\n",
    "decoded = Dense(64, activation='relu', kernel_regularizer=regularizers.l2(0.01))(decoded)\n",
    "decoded = Dense(X_scaled.shape[1], activation='linear')(decoded)\n",
    "\n",
    "# Define the autoencoder model\n",
    "autoencoder = Model(input_layer, decoded)\n",
    "\n",
    "# Define the discriminator architecture\n",
    "discriminator_input = Input(shape=(8,))\n",
    "discriminator = Dense(16, activation='relu')(discriminator_input)\n",
    "discriminator = Dense(1, activation='sigmoid')(discriminator)\n",
    "\n",
    "# Define the adversarial autoencoder model\n",
    "adversarial_autoencoder = Model(input_layer, [decoded, discriminator(encoded)])\n",
    "\n",
    "# Compile the autoencoder model\n",
    "autoencoder.compile(optimizer='adam', loss='mean_squared_error')\n",
    "\n",
    "# Compile the discriminator model\n",
    "discriminator.compile(optimizer=Adam(0.0001), loss='binary_crossentropy')\n",
    "\n",
    "# Freeze the autoencoder weights before training the discriminator\n",
    "for layer in autoencoder.layers:\n",
    "    layer.trainable = False\n",
    "\n",
    "# Combine the autoencoder and discriminator models\n",
    "adversarial_autoencoder.compile(optimizer='adam', loss=['mean_squared_error', 'binary_crossentropy'], loss_weights=[0.999, 0.001])\n",
    "\n",
    "# Train the adversarial autoencoder\n",
    "for epoch in range(50):\n",
    "    # Train the discriminator\n",
    "    discriminator_loss = []\n",
    "    for i in range(100):\n",
    "        # Generate a batch of real and fake data\n",
    "        real_data = X_encoded[np.random.randint(0, X_encoded.shape[0], size=32)]\n",
    "        fake_data = K.eval(encoded(K.constant(X_scaled[np.random.randint(0, X_scaled.shape[0], size=32)])))\n",
    "        # Train the discriminator on the real and fake data\n",
    "        discriminator_loss.append(discriminator.train_on_batch(real_data, np.ones((32, 1))))\n",
    "        discriminator_loss.append(discriminator.train_on_batch(fake_data, np.zeros((32, 1)))))\n",
    "\n",
    "    # Train the autoencoder with the discriminator frozen\n",
    "    for layer in autoencoder.layers:\n",
    "        layer.trainable = False\n",
    "    autoencoder_loss = autoencoder.train_on_batch(X_scaled, X_scaled)\n",
    "\n",
    "    # Train the adversarial autoencoder\n",
    "    for layer in autoencoder.layers:\n",
    "        layer.trainable = True\n",
    "    adversarial_autoencoder_loss = adversarial_autoencoder.train_on_batch(X_scaled, [X_scaled, np.ones((X_scaled.shape[0], 1))])\n",
    "\n",
    "    # Print the loss for each epoch\n",
    "    print('Epoch %d: Autoencoder Loss = %f, Discriminator Loss = %f, Adversarial Loss = %f' % (epoch, autoencoder_loss, np.mean(discriminator_loss), adversarial_autoencoder_loss[0]))"
   ]
  },
  {
   "cell_type": "markdown",
   "id": "a57c0ffd",
   "metadata": {
    "papermill": {
     "duration": null,
     "end_time": null,
     "exception": null,
     "start_time": null,
     "status": "pending"
    },
    "tags": []
   },
   "source": [
    "# Sparse Autoencoder"
   ]
  },
  {
   "cell_type": "code",
   "execution_count": null,
   "id": "fe54bc35",
   "metadata": {
    "execution": {
     "iopub.status.busy": "2024-01-21T17:21:41.761470Z",
     "iopub.status.idle": "2024-01-21T17:21:41.761781Z",
     "shell.execute_reply": "2024-01-21T17:21:41.761638Z",
     "shell.execute_reply.started": "2024-01-21T17:21:41.761623Z"
    },
    "papermill": {
     "duration": null,
     "end_time": null,
     "exception": null,
     "start_time": null,
     "status": "pending"
    },
    "tags": []
   },
   "outputs": [],
   "source": [
    "from tensorflow.keras.layers import Input, Dense\n",
    "from tensorflow.keras.models import Model\n",
    "from tensorflow.keras import regularizers\n",
    "\n",
    "# Define the input layer\n",
    "input_layer = Input(shape=(input_dim,))\n",
    "\n",
    "# Define the encoder architecture with sparsity constraint\n",
    "encoded = Dense(64, activation='relu', activity_regularizer=regularizers.l1(0.01))(input_layer)\n",
    "encoded = Dense(32, activation='relu', activity_regularizer=regularizers.l1(0.01))(encoded)\n",
    "encoded = Dense(16, activation='relu', activity_regularizer=regularizers.l1(0.01))(encoded)\n",
    "encoded = Dense(8, activation='relu', activity_regularizer=regularizers.l1(0.01))(encoded)\n",
    "\n",
    "# Define the decoder architecture\n",
    "decoded = Dense(16, activation='relu')(encoded)\n",
    "decoded = Dense(32, activation='relu')(decoded)\n",
    "decoded = Dense(64, activation='relu')(decoded)\n",
    "decoded = Dense(input_dim, activation='linear')(decoded)\n",
    "\n",
    "# Define the autoencoder model\n",
    "autoencoder = Model(input_layer, decoded)\n",
    "\n",
    "# Compile the autoencoder model\n",
    "autoencoder.compile(optimizer='adam', loss='mean_squared_error')"
   ]
  },
  {
   "cell_type": "markdown",
   "id": "c6da7e60",
   "metadata": {
    "papermill": {
     "duration": null,
     "end_time": null,
     "exception": null,
     "start_time": null,
     "status": "pending"
    },
    "tags": []
   },
   "source": [
    "# Contractive autoencoder"
   ]
  },
  {
   "cell_type": "code",
   "execution_count": null,
   "id": "8e3a4919",
   "metadata": {
    "execution": {
     "iopub.status.busy": "2024-01-21T17:21:41.763365Z",
     "iopub.status.idle": "2024-01-21T17:21:41.763670Z",
     "shell.execute_reply": "2024-01-21T17:21:41.763531Z",
     "shell.execute_reply.started": "2024-01-21T17:21:41.763516Z"
    },
    "papermill": {
     "duration": null,
     "end_time": null,
     "exception": null,
     "start_time": null,
     "status": "pending"
    },
    "tags": []
   },
   "outputs": [],
   "source": [
    "import numpy as np\n",
    "import pandas as pd\n",
    "import tensorflow as tf\n",
    "from tensorflow.keras.layers import Input, Dense\n",
    "from tensorflow.keras.models import Model\n",
    "from tensorflow.keras import regularizers\n",
    "from tensorflow.keras import backend as K\n",
    "from tensorflow.keras.optimizers import Adam\n",
    "\n",
    "def contractive_autoencoder(encoding_dim, lam=1e-4):\n",
    "    # Define the input layer\n",
    "    inputs = Input(shape=(X_train.shape[1],))\n",
    "    \n",
    "    # Encoder\n",
    "    encoded = Dense(encoding_dim, activation='relu', activity_regularizer=regularizers.l2(lam))(inputs)\n",
    "    \n",
    "    # Decoder\n",
    "    decoded = Dense(X_train.shape[1], activation='sigmoid')(encoded)\n",
    "    \n",
    "    # Define the contractive loss function\n",
    "    def contractive_loss(y_true, y_pred):\n",
    "        mse = K.mean(K.square(y_true - y_pred), axis=1)\n",
    "        \n",
    "        # Compute the Jacobian of the encoder output with respect to the input\n",
    "        encoder = Model(inputs, encoded)\n",
    "        with tf.GradientTape() as tape:\n",
    "            tape.watch(inputs)\n",
    "            encoded_output = encoder(inputs)\n",
    "        jacobian = tape.batch_jacobian(encoded_output, inputs)\n",
    "        jacobian_norm = K.sqrt(K.sum(K.square(jacobian), axis=(1, 2)))\n",
    "        \n",
    "        # Compute the contractive loss\n",
    "        return mse + lam * jacobian_norm\n",
    "    \n",
    "    # Create the autoencoder model\n",
    "    autoencoder = Model(inputs, decoded)\n",
    "    autoencoder.compile(optimizer=Adam(), loss=contractive_loss)\n",
    "    \n",
    "    return autoencoder\n",
    "\n",
    "# Instantiate the contractive autoencoder model\n",
    "encoding_dim = 32  # Dimension of the encoded representation\n",
    "ca_model = contractive_autoencoder(encoding_dim)\n",
    "\n",
    "# Example synthetic data (as placeholder for X_train)\n",
    "X_train = np.random.rand(1000, 20)  # 1000 samples, 20 features\n",
    "\n",
    "# Train the contractive autoencoder\n",
    "ca_model.fit(X_train, X_train, epochs=50, batch_size=32)\n",
    "\n",
    "print(\"Training complete!\")\n"
   ]
  },
  {
   "cell_type": "code",
   "execution_count": null,
   "id": "1538453d",
   "metadata": {
    "papermill": {
     "duration": null,
     "end_time": null,
     "exception": null,
     "start_time": null,
     "status": "pending"
    },
    "tags": []
   },
   "outputs": [],
   "source": []
  },
  {
   "cell_type": "markdown",
   "id": "ed264fbb",
   "metadata": {
    "papermill": {
     "duration": null,
     "end_time": null,
     "exception": null,
     "start_time": null,
     "status": "pending"
    },
    "tags": []
   },
   "source": [
    "## LSTM auto encoder "
   ]
  },
  {
   "cell_type": "code",
   "execution_count": null,
   "id": "a02b05a9",
   "metadata": {
    "execution": {
     "iopub.status.busy": "2024-01-21T17:21:41.764780Z",
     "iopub.status.idle": "2024-01-21T17:21:41.765147Z",
     "shell.execute_reply": "2024-01-21T17:21:41.764997Z",
     "shell.execute_reply.started": "2024-01-21T17:21:41.764980Z"
    },
    "papermill": {
     "duration": null,
     "end_time": null,
     "exception": null,
     "start_time": null,
     "status": "pending"
    },
    "tags": []
   },
   "outputs": [],
   "source": [
    "import pandas as pd\n",
    "import numpy as np\n",
    "from sklearn.feature_selection import SelectKBest, f_classif\n",
    "from tensorflow.keras.layers import Input, LSTM, RepeatVector, Dropout\n",
    "from tensorflow.keras.models import Model\n",
    "from tensorflow.keras import regularizers\n",
    "\n",
    "# Load your IoT dataset into a pandas DataFrame\n",
    "# Assuming your dataset is stored in a variable called 'iot_data'\n",
    "# Replace 'target_column' with the name of the target variable column in your dataset\n",
    "# Replace the column names with the actual feature names in your dataset\n",
    "X = iot_data.drop(['target_column'], axis=1)  # Features\n",
    "y = iot_data['target_column']  # Target variable\n",
    "\n",
    "# Select the top 5 features based on the ANOVA F-test\n",
    "selector = SelectKBest(score_func=f_classif, k=5)\n",
    "X_new = selector.fit_transform(X, y)\n",
    "\n",
    "# Define the input layer\n",
    "input_layer = Input(shape=(X_new.shape[1],))\n",
    "\n",
    "# Define the encoder LSTM layers with dropout and L2 regularization\n",
    "encoded = LSTM(16, activation='relu', kernel_regularizer=regularizers.l2(0.01), return_sequences=True)(input_layer)\n",
    "encoded = Dropout(0.2)(encoded)\n",
    "encoded = LSTM(8, activation='relu', kernel_regularizer=regularizers.l2(0.01), return_sequences=True)(encoded)\n",
    "encoded = Dropout(0.2)(encoded)\n",
    "encoded = LSTM(4, activation='relu', kernel_regularizer=regularizers.l2(0.01))(encoded)\n",
    "\n",
    "# Repeat the encoded representation to the original sequence length\n",
    "decoded = RepeatVector(X_new.shape[1])(encoded)\n",
    "\n",
    "# Define the decoder LSTM layers with dropout and L2 regularization\n",
    "decoded = LSTM(8, activation='relu', kernel_regularizer=regularizers.l2(0.01), return_sequences=True)(decoded)\n",
    "decoded = Dropout(0.2)(decoded)\n",
    "decoded = LSTM(16, activation='relu', kernel_regularizer=regularizers.l2(0.01), return_sequences=True)(decoded)\n",
    "decoded = Dropout(0.2)(decoded)\n",
    "decoded = LSTM(X_new.shape[1], activation='relu', kernel_regularizer=regularizers.l2(0.01), return_sequences=True)(decoded)\n",
    "\n",
    "# Define the autoencoder model\n",
    "autoencoder = Model(input_layer, decoded)\n",
    "\n",
    "# Compile the model\n",
    "autoencoder.compile(optimizer='adam', loss='mean_squared_error')\n",
    "\n",
    "# Train the model\n",
    "autoencoder.fit(X_new, X_new, epochs=50, batch_size=32)\n",
    "\n",
    "# Use the encoder layer to transform the input data into a lower-dimensional representation\n",
    "encoder = Model(input_layer, encoded)\n",
    "X_encoded = encoder.predict(X_new)\n",
    "\n",
    "# Print the shape of the encoded data\n",
    "print(\"Encoded data shape:\", X_encoded.shape)"
   ]
  },
  {
   "cell_type": "code",
   "execution_count": null,
   "id": "0df61cfa",
   "metadata": {
    "execution": {
     "iopub.status.busy": "2024-01-21T17:21:41.766711Z",
     "iopub.status.idle": "2024-01-21T17:21:41.767063Z",
     "shell.execute_reply": "2024-01-21T17:21:41.766912Z",
     "shell.execute_reply.started": "2024-01-21T17:21:41.766894Z"
    },
    "papermill": {
     "duration": null,
     "end_time": null,
     "exception": null,
     "start_time": null,
     "status": "pending"
    },
    "tags": []
   },
   "outputs": [],
   "source": [
    "\n",
    "autoencoder = Model(input_layer, output_layer)\n",
    "\n",
    "# the compile section\n",
    "autoencoder.compile(optimizer = 'adam', loss='mse')\n"
   ]
  },
  {
   "cell_type": "code",
   "execution_count": null,
   "id": "711c1021",
   "metadata": {
    "execution": {
     "iopub.status.busy": "2024-01-21T17:21:41.768547Z",
     "iopub.status.idle": "2024-01-21T17:21:41.768902Z",
     "shell.execute_reply": "2024-01-21T17:21:41.768729Z",
     "shell.execute_reply.started": "2024-01-21T17:21:41.768713Z"
    },
    "papermill": {
     "duration": null,
     "end_time": null,
     "exception": null,
     "start_time": null,
     "status": "pending"
    },
    "tags": []
   },
   "outputs": [],
   "source": [
    "from tensorflow.keras.utils import plot_model\n",
    "\n",
    "plot_model(autoencoder, 'autoencoder_no_compress.png', show_shapes=True)"
   ]
  },
  {
   "cell_type": "code",
   "execution_count": null,
   "id": "33ba42f0",
   "metadata": {
    "execution": {
     "iopub.status.busy": "2024-01-21T17:21:41.771119Z",
     "iopub.status.idle": "2024-01-21T17:21:41.771559Z",
     "shell.execute_reply": "2024-01-21T17:21:41.771352Z",
     "shell.execute_reply.started": "2024-01-21T17:21:41.771329Z"
    },
    "papermill": {
     "duration": null,
     "end_time": null,
     "exception": null,
     "start_time": null,
     "status": "pending"
    },
    "tags": []
   },
   "outputs": [],
   "source": [
    "history = autoencoder.fit(x_normal_scaled, x_normal_scaled, batch_size=16, epochs=30, shuffle=True, validation_split = 0.20)"
   ]
  },
  {
   "cell_type": "code",
   "execution_count": null,
   "id": "470ef37a",
   "metadata": {
    "execution": {
     "iopub.status.busy": "2024-01-21T17:21:41.773090Z",
     "iopub.status.idle": "2024-01-21T17:21:41.773519Z",
     "shell.execute_reply": "2024-01-21T17:21:41.773317Z",
     "shell.execute_reply.started": "2024-01-21T17:21:41.773296Z"
    },
    "papermill": {
     "duration": null,
     "end_time": null,
     "exception": null,
     "start_time": null,
     "status": "pending"
    },
    "tags": []
   },
   "outputs": [],
   "source": [
    "# plotting the result\n",
    "from matplotlib import pyplot\n",
    "\n",
    "pyplot.plot(history.history['loss'], label='train')\n",
    "pyplot.plot(history.history['val_loss'], label='test')\n",
    "pyplot.legend()\n",
    "pyplot.show()\n",
    "encoder = Model(input_layer, output_layer)\n",
    "plot_model(encoder, 'encoder_no_compress.png', show_shapes=True)\n",
    "encoder.save('encoder.h5')"
   ]
  },
  {
   "cell_type": "markdown",
   "id": "f2112c09",
   "metadata": {
    "papermill": {
     "duration": null,
     "end_time": null,
     "exception": null,
     "start_time": null,
     "status": "pending"
    },
    "tags": []
   },
   "source": [
    "# LSTM Auto Encoder"
   ]
  },
  {
   "cell_type": "code",
   "execution_count": null,
   "id": "1ecaddbd",
   "metadata": {
    "execution": {
     "iopub.status.busy": "2024-01-21T17:21:41.774916Z",
     "iopub.status.idle": "2024-01-21T17:21:41.775229Z",
     "shell.execute_reply": "2024-01-21T17:21:41.775090Z",
     "shell.execute_reply.started": "2024-01-21T17:21:41.775075Z"
    },
    "papermill": {
     "duration": null,
     "end_time": null,
     "exception": null,
     "start_time": null,
     "status": "pending"
    },
    "tags": []
   },
   "outputs": [],
   "source": [
    "# Creating a 3D dataset\n",
    "TIME_STEPS = 30\n",
    "\n",
    "def create_sequences(X_1, y_1, time_steps=TIME_STEPS):\n",
    "\n",
    "  Xs, ys = [], []\n",
    "\n",
    "  for i in range(len(X_1)-time_steps):\n",
    "\n",
    "    Xs.append(X.iloc[i:(i+time_steps)].values)\n",
    "    ys.append(y.iloc[i+time_steps])\n",
    "\n",
    "  return np.array(Xs), np.array(ys)\n",
    "\n",
    "X_train_1, y_train_1 = create_sequences(X_train, y_train)\n",
    "\n",
    "X_test_1, y_test_1 = create_sequences(X_test, y_test)\n",
    "\n"
   ]
  },
  {
   "cell_type": "code",
   "execution_count": null,
   "id": "4d7685cb",
   "metadata": {
    "execution": {
     "iopub.status.busy": "2024-01-21T17:21:41.776409Z",
     "iopub.status.idle": "2024-01-21T17:21:41.776741Z",
     "shell.execute_reply": "2024-01-21T17:21:41.776596Z",
     "shell.execute_reply.started": "2024-01-21T17:21:41.776579Z"
    },
    "papermill": {
     "duration": null,
     "end_time": null,
     "exception": null,
     "start_time": null,
     "status": "pending"
    },
    "tags": []
   },
   "outputs": [],
   "source": [
    "print(X_test_1.shape)\n",
    "print(X_train_1.shape)"
   ]
  },
  {
   "cell_type": "code",
   "execution_count": null,
   "id": "099e9837",
   "metadata": {
    "execution": {
     "iopub.status.busy": "2024-01-21T17:21:41.777971Z",
     "iopub.status.idle": "2024-01-21T17:21:41.778283Z",
     "shell.execute_reply": "2024-01-21T17:21:41.778137Z",
     "shell.execute_reply.started": "2024-01-21T17:21:41.778122Z"
    },
    "papermill": {
     "duration": null,
     "end_time": null,
     "exception": null,
     "start_time": null,
     "status": "pending"
    },
    "tags": []
   },
   "outputs": [],
   "source": [
    "from tensorflow import keras\n",
    "from sklearn.preprocessing import StandardScaler\n",
    "import numpy as np\n",
    "import tensorflow as tf\n",
    "import pandas as pd\n",
    "import seaborn as sns\n",
    "import matplotlib.pyplot as plt\n",
    "\n",
    "import plotly.graph_objects as go\n",
    "\n",
    "np.random.seed(1)\n",
    "tf.random.set_seed(1)\n",
    "\n",
    "from tensorflow.keras.models import Sequential\n"
   ]
  },
  {
   "cell_type": "code",
   "execution_count": null,
   "id": "27c004b2",
   "metadata": {
    "execution": {
     "iopub.status.busy": "2024-01-21T17:21:41.780240Z",
     "iopub.status.idle": "2024-01-21T17:21:41.780675Z",
     "shell.execute_reply": "2024-01-21T17:21:41.780470Z",
     "shell.execute_reply.started": "2024-01-21T17:21:41.780448Z"
    },
    "papermill": {
     "duration": null,
     "end_time": null,
     "exception": null,
     "start_time": null,
     "status": "pending"
    },
    "tags": []
   },
   "outputs": [],
   "source": [
    "\n",
    "import numpy as np\n",
    "from tensorflow.keras.models import Sequential\n",
    "from tensorflow.keras.layers import LSTM, RepeatVector, TimeDistributed, Dropout\n",
    "\n",
    "\n",
    "\n",
    "model = Sequential()\n",
    "model.add(LSTM(128, input_shape=(X_train_1.shape[1], X_train_1.shape[2])))\n",
    "model.add(Dropout(rate=0.2))\n",
    "model.add(RepeatVector(X_train_1.shape[1]))\n",
    "model.add(LSTM(128, return_sequences=True))\n",
    "model.add(Dropout(rate=0.2))\n",
    "model.add(TimeDistributed(Dense(X_train_1.shape[2])))\n",
    "model.compile(optimizer='adam', loss='mae')\n",
    "model.summary()\n",
    "\n"
   ]
  },
  {
   "cell_type": "code",
   "execution_count": null,
   "id": "079490c1",
   "metadata": {
    "execution": {
     "iopub.status.busy": "2024-01-21T17:21:41.781720Z",
     "iopub.status.idle": "2024-01-21T17:21:41.782237Z",
     "shell.execute_reply": "2024-01-21T17:21:41.782009Z",
     "shell.execute_reply.started": "2024-01-21T17:21:41.781985Z"
    },
    "papermill": {
     "duration": null,
     "end_time": null,
     "exception": null,
     "start_time": null,
     "status": "pending"
    },
    "tags": []
   },
   "outputs": [],
   "source": [
    "history = model.fit(X_train_1, y_train_1, epochs=2, batch_size=16, validation_split=0.1,\n",
    "                    callbacks=[keras.callbacks.EarlyStopping(monitor='val_loss', patience=3, mode='min')], shuffle=False)"
   ]
  }
 ],
 "metadata": {
  "kaggle": {
   "accelerator": "nvidiaTeslaT4",
   "dataSources": [
    {
     "datasetId": 4193522,
     "sourceId": 7240415,
     "sourceType": "datasetVersion"
    }
   ],
   "dockerImageVersionId": 30628,
   "isGpuEnabled": true,
   "isInternetEnabled": true,
   "language": "python",
   "sourceType": "notebook"
  },
  "kernelspec": {
   "display_name": "Python 3",
   "language": "python",
   "name": "python3"
  },
  "language_info": {
   "codemirror_mode": {
    "name": "ipython",
    "version": 3
   },
   "file_extension": ".py",
   "mimetype": "text/x-python",
   "name": "python",
   "nbconvert_exporter": "python",
   "pygments_lexer": "ipython3",
   "version": "3.10.12"
  },
  "papermill": {
   "default_parameters": {},
   "duration": 669.399986,
   "end_time": "2024-01-21T20:58:47.658174",
   "environment_variables": {},
   "exception": true,
   "input_path": "__notebook__.ipynb",
   "output_path": "__notebook__.ipynb",
   "parameters": {},
   "start_time": "2024-01-21T20:47:38.258188",
   "version": "2.4.0"
  }
 },
 "nbformat": 4,
 "nbformat_minor": 5
}
